{
 "cells": [
  {
   "cell_type": "markdown",
   "id": "138312c1",
   "metadata": {},
   "source": [
    "# Introduction\n",
    "\n",
    "In this tutorail we will see how to perform correspondence analysis with CodonU"
   ]
  },
  {
   "cell_type": "code",
   "execution_count": 1,
   "id": "3abbe29c",
   "metadata": {},
   "outputs": [],
   "source": [
    "from CodonU import correspondence_analysis as CA"
   ]
  },
  {
   "cell_type": "markdown",
   "id": "7af50d88",
   "metadata": {},
   "source": [
    "# Setting file path"
   ]
  },
  {
   "cell_type": "code",
   "execution_count": 2,
   "id": "540b5408",
   "metadata": {},
   "outputs": [],
   "source": [
    "in_file = 'Nucleotide/Staphylococcus_aureus.fasta'"
   ]
  },
  {
   "cell_type": "markdown",
   "id": "859af8b9-b78f-4394-9487-c91923a73dc7",
   "metadata": {},
   "source": [
    "# Building Contingency Tables\n",
    "In this section we will see how to build contingency tables for codon count, codon RSCU and aa count"
   ]
  },
  {
   "cell_type": "markdown",
   "id": "39d0ad63-b0c8-48a6-8ea1-c2d0aee8a803",
   "metadata": {},
   "source": [
    "## Codon Frequency"
   ]
  },
  {
   "cell_type": "code",
   "execution_count": 3,
   "id": "26f1d5d6-372d-4184-a78a-a934bf0e32c6",
   "metadata": {},
   "outputs": [],
   "source": [
    "codon_count_cont = CA.build_contingency_table_codon_count(\n",
    "    handle=in_file,\n",
    "    genetic_table_num=11\n",
    ")"
   ]
  },
  {
   "cell_type": "markdown",
   "id": "2ecd04fc-b262-4f32-bcc4-0425a4266862",
   "metadata": {},
   "source": [
    "You can also give desired values for `min_len_threshold`, `save_file`, `file_name`, `folder_path`.\n",
    "If you save the file, it will saved in `.xlsx` format."
   ]
  },
  {
   "cell_type": "code",
   "execution_count": 7,
   "id": "11aa9893-6211-44f4-8119-7b234e004df6",
   "metadata": {
    "scrolled": true
   },
   "outputs": [
    {
     "name": "stdout",
     "output_type": "stream",
     "text": [
      "                                                   TTT TTC TTA TTG TCT TCC  \\\n",
      "AP009351.1|Staphylococcus aureus subsp. aureus ...  13   8  25   3   5   0   \n",
      "AP009351.1|Staphylococcus aureus subsp. aureus ...   9   8  27   4  11   1   \n",
      "AP009351.1|Staphylococcus aureus subsp. aureus ...   9   1  26   7   5   1   \n",
      "AP009351.1|Staphylococcus aureus subsp. aureus ...  10   9  34   8  12   1   \n",
      "AP009351.1|Staphylococcus aureus subsp. aureus ...   9  12  49  11   8   0   \n",
      "\n",
      "                                                   TCA TCG TAT TAC  ... GCA  \\\n",
      "AP009351.1|Staphylococcus aureus subsp. aureus ...   8   3  11   6  ...  13   \n",
      "AP009351.1|Staphylococcus aureus subsp. aureus ...  11   2   6   1  ...   5   \n",
      "AP009351.1|Staphylococcus aureus subsp. aureus ...   1   3  12   3  ...   5   \n",
      "AP009351.1|Staphylococcus aureus subsp. aureus ...   8   2  23   6  ...  23   \n",
      "AP009351.1|Staphylococcus aureus subsp. aureus ...  25   1  16   5  ...  28   \n",
      "\n",
      "                                                   GCG GAT GAC GAA GAG GGT  \\\n",
      "AP009351.1|Staphylococcus aureus subsp. aureus ...   2  20   3  42   5  10   \n",
      "AP009351.1|Staphylococcus aureus subsp. aureus ...   4  19  10  28   2  14   \n",
      "AP009351.1|Staphylococcus aureus subsp. aureus ...   3  19   3  20   7   6   \n",
      "AP009351.1|Staphylococcus aureus subsp. aureus ...  10  30  10  47  10  33   \n",
      "AP009351.1|Staphylococcus aureus subsp. aureus ...   6  52  15  70  14  50   \n",
      "\n",
      "                                                   GGC GGA GGG  \n",
      "AP009351.1|Staphylococcus aureus subsp. aureus ...   2   4   2  \n",
      "AP009351.1|Staphylococcus aureus subsp. aureus ...   3   3   1  \n",
      "AP009351.1|Staphylococcus aureus subsp. aureus ...   6   5   1  \n",
      "AP009351.1|Staphylococcus aureus subsp. aureus ...   6  11   4  \n",
      "AP009351.1|Staphylococcus aureus subsp. aureus ...   4   9   1  \n",
      "\n",
      "[5 rows x 61 columns]\n"
     ]
    }
   ],
   "source": [
    "print(codon_count_cont.head())"
   ]
  },
  {
   "cell_type": "markdown",
   "id": "ffa0a7ce-955f-42f7-aa8e-3d3076a683da",
   "metadata": {},
   "source": [
    "## Codon RSCU"
   ]
  },
  {
   "cell_type": "code",
   "execution_count": 8,
   "id": "83f777ed-8a36-47ff-9a72-79e0576b2edc",
   "metadata": {
    "scrolled": true
   },
   "outputs": [
    {
     "name": "stdout",
     "output_type": "stream",
     "text": [
      "                                                         TTT       TTC  \\\n",
      "AP009351.1|Staphylococcus aureus subsp. aureus ...  1.238095  0.761905   \n",
      "AP009351.1|Staphylococcus aureus subsp. aureus ...  1.058824  0.941176   \n",
      "AP009351.1|Staphylococcus aureus subsp. aureus ...       1.8       0.2   \n",
      "AP009351.1|Staphylococcus aureus subsp. aureus ...  1.052632  0.947368   \n",
      "AP009351.1|Staphylococcus aureus subsp. aureus ...  0.857143  1.142857   \n",
      "\n",
      "                                                         TTA       TTG  \\\n",
      "AP009351.1|Staphylococcus aureus subsp. aureus ...  4.054054  0.486486   \n",
      "AP009351.1|Staphylococcus aureus subsp. aureus ...      4.32      0.64   \n",
      "AP009351.1|Staphylococcus aureus subsp. aureus ...  3.319149  0.893617   \n",
      "AP009351.1|Staphylococcus aureus subsp. aureus ...  3.813084  0.897196   \n",
      "AP009351.1|Staphylococcus aureus subsp. aureus ...   3.62963  0.814815   \n",
      "\n",
      "                                                         TCT       TCC  \\\n",
      "AP009351.1|Staphylococcus aureus subsp. aureus ...      1.25     0.125   \n",
      "AP009351.1|Staphylococcus aureus subsp. aureus ...  2.275862  0.206897   \n",
      "AP009351.1|Staphylococcus aureus subsp. aureus ...       1.5       0.3   \n",
      "AP009351.1|Staphylococcus aureus subsp. aureus ...       2.4       0.2   \n",
      "AP009351.1|Staphylococcus aureus subsp. aureus ...  0.914286  0.057143   \n",
      "\n",
      "                                                         TCA       TCG  \\\n",
      "AP009351.1|Staphylococcus aureus subsp. aureus ...       2.0      0.75   \n",
      "AP009351.1|Staphylococcus aureus subsp. aureus ...  2.275862  0.413793   \n",
      "AP009351.1|Staphylococcus aureus subsp. aureus ...       0.3       0.9   \n",
      "AP009351.1|Staphylococcus aureus subsp. aureus ...       1.6       0.4   \n",
      "AP009351.1|Staphylococcus aureus subsp. aureus ...  2.857143  0.114286   \n",
      "\n",
      "                                                         TAT       TAC  ...  \\\n",
      "AP009351.1|Staphylococcus aureus subsp. aureus ...  1.294118  0.705882  ...   \n",
      "AP009351.1|Staphylococcus aureus subsp. aureus ...  1.714286  0.285714  ...   \n",
      "AP009351.1|Staphylococcus aureus subsp. aureus ...       1.6       0.4  ...   \n",
      "AP009351.1|Staphylococcus aureus subsp. aureus ...  1.586207  0.413793  ...   \n",
      "AP009351.1|Staphylococcus aureus subsp. aureus ...   1.52381   0.47619  ...   \n",
      "\n",
      "                                                         GCA       GCG  \\\n",
      "AP009351.1|Staphylococcus aureus subsp. aureus ...     1.625      0.25   \n",
      "AP009351.1|Staphylococcus aureus subsp. aureus ...      1.25       1.0   \n",
      "AP009351.1|Staphylococcus aureus subsp. aureus ...  0.930233   0.55814   \n",
      "AP009351.1|Staphylococcus aureus subsp. aureus ...  2.090909  0.909091   \n",
      "AP009351.1|Staphylococcus aureus subsp. aureus ...  2.036364  0.436364   \n",
      "\n",
      "                                                         GAT       GAC  \\\n",
      "AP009351.1|Staphylococcus aureus subsp. aureus ...   1.73913   0.26087   \n",
      "AP009351.1|Staphylococcus aureus subsp. aureus ...  1.310345  0.689655   \n",
      "AP009351.1|Staphylococcus aureus subsp. aureus ...  1.727273  0.272727   \n",
      "AP009351.1|Staphylococcus aureus subsp. aureus ...       1.5       0.5   \n",
      "AP009351.1|Staphylococcus aureus subsp. aureus ...  1.552239  0.447761   \n",
      "\n",
      "                                                         GAA       GAG  \\\n",
      "AP009351.1|Staphylococcus aureus subsp. aureus ...  1.787234  0.212766   \n",
      "AP009351.1|Staphylococcus aureus subsp. aureus ...  1.866667  0.133333   \n",
      "AP009351.1|Staphylococcus aureus subsp. aureus ...  1.481481  0.518519   \n",
      "AP009351.1|Staphylococcus aureus subsp. aureus ...  1.649123  0.350877   \n",
      "AP009351.1|Staphylococcus aureus subsp. aureus ...  1.666667  0.333333   \n",
      "\n",
      "                                                         GGT       GGC  \\\n",
      "AP009351.1|Staphylococcus aureus subsp. aureus ...  2.222222  0.444444   \n",
      "AP009351.1|Staphylococcus aureus subsp. aureus ...  2.666667  0.571429   \n",
      "AP009351.1|Staphylococcus aureus subsp. aureus ...  1.333333  1.333333   \n",
      "AP009351.1|Staphylococcus aureus subsp. aureus ...  2.444444  0.444444   \n",
      "AP009351.1|Staphylococcus aureus subsp. aureus ...     3.125      0.25   \n",
      "\n",
      "                                                         GGA       GGG  \n",
      "AP009351.1|Staphylococcus aureus subsp. aureus ...  0.888889  0.444444  \n",
      "AP009351.1|Staphylococcus aureus subsp. aureus ...  0.571429  0.190476  \n",
      "AP009351.1|Staphylococcus aureus subsp. aureus ...  1.111111  0.222222  \n",
      "AP009351.1|Staphylococcus aureus subsp. aureus ...  0.814815  0.296296  \n",
      "AP009351.1|Staphylococcus aureus subsp. aureus ...    0.5625    0.0625  \n",
      "\n",
      "[5 rows x 61 columns]\n"
     ]
    }
   ],
   "source": [
    "codon_rscu_cont = CA.build_contingency_table_codon_rscu(in_file, 11)\n",
    "print(codon_rscu_cont.head())"
   ]
  },
  {
   "cell_type": "markdown",
   "id": "523220ea-b6ee-4aaa-9735-2b24d0e78a04",
   "metadata": {},
   "source": [
    "## AA Frequency"
   ]
  },
  {
   "cell_type": "code",
   "execution_count": 9,
   "id": "f4a4f909-c4ee-43fb-b1c1-846ffe1ff607",
   "metadata": {
    "scrolled": true
   },
   "outputs": [
    {
     "name": "stdout",
     "output_type": "stream",
     "text": [
      "                                                     K   N   T   R   S   I  \\\n",
      "BAF66273.1 chromosomal replication initiator pr...  34  26  30  19  23  45   \n",
      "BAF66274.1 DNA polymerase III beta subunit          25  22  27  12  29  36   \n",
      "BAF66275.1 DNA replication and repair protein RecF  26  24  21  17  20  29   \n",
      "BAF66276.1 DNA gyrase B subunit                     42  32  38  39  30  44   \n",
      "BAF66277.1 DNA gyrase A subunit                     40  47  53  75  52  70   \n",
      "\n",
      "                                                     M   Q   H   P   L   E  \\\n",
      "BAF66273.1 chromosomal replication initiator pr...   4  22  12  20  36  47   \n",
      "BAF66274.1 DNA polymerase III beta subunit           6  11   5  16  37  30   \n",
      "BAF66275.1 DNA replication and repair protein RecF  11  26  11   8  47  27   \n",
      "BAF66276.1 DNA gyrase B subunit                     13  25  16  17  53  57   \n",
      "BAF66277.1 DNA gyrase A subunit                     22  32  14  25  80  84   \n",
      "\n",
      "                                                     D   A   G   V   Y  C  W  \\\n",
      "BAF66273.1 chromosomal replication initiator pr...  23  32  18  21  17  0  3   \n",
      "BAF66274.1 DNA polymerase III beta subunit          29  16  21  29   7  1  1   \n",
      "BAF66275.1 DNA replication and repair protein RecF  22  21  18  16  15  1  0   \n",
      "BAF66276.1 DNA gyrase B subunit                     40  44  54  46  29  2  4   \n",
      "BAF66277.1 DNA gyrase A subunit                     67  55  64  70  21  1  0   \n",
      "\n",
      "                                                     F  \n",
      "BAF66273.1 chromosomal replication initiator pr...  21  \n",
      "BAF66274.1 DNA polymerase III beta subunit          17  \n",
      "BAF66275.1 DNA replication and repair protein RecF  10  \n",
      "BAF66276.1 DNA gyrase B subunit                     19  \n",
      "BAF66277.1 DNA gyrase A subunit                     21  \n"
     ]
    }
   ],
   "source": [
    "aa_count_cont = CA.build_contingency_table_aa_count(\n",
    "    handle='Protein/Staphylococcus_aureus.fasta',\n",
    "    genetic_table_num=11\n",
    ")\n",
    "print(aa_count_cont.head())"
   ]
  },
  {
   "cell_type": "markdown",
   "id": "3304a4e7-ac4f-4847-873c-577af7238359",
   "metadata": {},
   "source": [
    "# Performing Correspondence Analysis (COA)"
   ]
  },
  {
   "cell_type": "markdown",
   "id": "905f4791-7dfd-4dda-9fe1-3df3b446929a",
   "metadata": {},
   "source": [
    "## Codon Frequency"
   ]
  },
  {
   "cell_type": "code",
   "execution_count": 11,
   "id": "037d54c2-2d4b-4420-923b-97734b0cd8ef",
   "metadata": {},
   "outputs": [
    {
     "name": "stdout",
     "output_type": "stream",
     "text": [
      "          eigenvalue % of variance % of variance (cumulative)\n",
      "component                                                    \n",
      "0              0.036        10.74%                     10.74%\n",
      "1              0.031         9.30%                     20.04%\n",
      "2              0.017         5.10%                     25.14%\n",
      "3              0.015         4.56%                     29.69%\n",
      "4              0.011         3.43%                     33.12%\n",
      "5              0.011         3.16%                     36.28%\n",
      "6              0.009         2.66%                     38.94%\n",
      "7              0.008         2.33%                     41.27%\n",
      "8              0.008         2.32%                     43.59%\n",
      "9              0.007         2.15%                     45.74%\n",
      "10             0.006         1.78%                     47.52%\n",
      "11             0.006         1.70%                     49.22%\n",
      "12             0.006         1.68%                     50.90%\n",
      "13             0.005         1.53%                     52.43%\n",
      "14             0.005         1.49%                     53.91%\n",
      "15             0.005         1.46%                     55.38%\n",
      "16             0.005         1.43%                     56.81%\n",
      "17             0.005         1.37%                     58.18%\n",
      "18             0.005         1.36%                     59.54%\n",
      "19             0.004         1.34%                     60.89%\n"
     ]
    }
   ],
   "source": [
    "ca_codon__count_obj = CA.ca_codon(\n",
    "    contingency_table=codon_count_cont,\n",
    "    n_components=20,\n",
    ")"
   ]
  },
  {
   "cell_type": "markdown",
   "id": "ef20f5ad-3c60-4528-9a3d-63d8e717c9de",
   "metadata": {},
   "source": [
    "The returned object is of type `CA`. You can find more about this object and its methods [here](https://maxhalford.github.io/prince/ca/).\n",
    "\n",
    "Also the function has a `save_file` option. If you provide `True` to that, the above seen results will be saved."
   ]
  },
  {
   "cell_type": "markdown",
   "id": "6822fbf2-eddf-4d5d-b4cf-c29f9a834fdf",
   "metadata": {},
   "source": [
    "## Codon RSCU"
   ]
  },
  {
   "cell_type": "code",
   "execution_count": 12,
   "id": "539e3f77-ad7a-4aaf-9ebd-c5fcfd4db30e",
   "metadata": {
    "scrolled": true
   },
   "outputs": [
    {
     "name": "stdout",
     "output_type": "stream",
     "text": [
      "          eigenvalue % of variance % of variance (cumulative)\n",
      "component                                                    \n",
      "0              0.025        12.98%                     12.98%\n",
      "1              0.015         7.86%                     20.83%\n",
      "2              0.011         5.66%                     26.50%\n",
      "3              0.008         3.93%                     30.42%\n",
      "4              0.007         3.65%                     34.07%\n",
      "5              0.006         3.24%                     37.31%\n",
      "6              0.006         3.16%                     40.47%\n",
      "7              0.006         3.01%                     43.48%\n",
      "8              0.005         2.80%                     46.28%\n",
      "9              0.005         2.77%                     49.05%\n",
      "10             0.005         2.69%                     51.74%\n",
      "11             0.005         2.47%                     54.21%\n",
      "12             0.005         2.40%                     56.61%\n",
      "13             0.005         2.33%                     58.94%\n",
      "14             0.004         2.28%                     61.22%\n",
      "15             0.004         2.18%                     63.40%\n",
      "16             0.004         2.11%                     65.51%\n",
      "17             0.004         2.08%                     67.60%\n",
      "18             0.004         2.05%                     69.65%\n",
      "19             0.004         1.98%                     71.62%\n",
      "20             0.004         1.93%                     73.55%\n",
      "21             0.004         1.87%                     75.42%\n",
      "22             0.004         1.82%                     77.24%\n",
      "23             0.003         1.75%                     78.99%\n",
      "24             0.003         1.71%                     80.70%\n",
      "25             0.003         1.66%                     82.36%\n",
      "26             0.003         1.60%                     83.96%\n",
      "27             0.003         1.52%                     85.48%\n",
      "28             0.003         1.47%                     86.95%\n",
      "29             0.003         1.37%                     88.32%\n",
      "30             0.003         1.34%                     89.66%\n",
      "31             0.003         1.31%                     90.98%\n",
      "32             0.003         1.29%                     92.27%\n",
      "33             0.002         1.22%                     93.49%\n",
      "34             0.002         1.17%                     94.66%\n",
      "35             0.002         1.08%                     95.74%\n",
      "36             0.002         1.04%                     96.78%\n",
      "37             0.002         0.94%                     97.72%\n",
      "38             0.002         0.89%                     98.62%\n",
      "39             0.001         0.75%                     99.37%\n",
      "40             0.001         0.63%                    100.00%\n",
      "41             0.000         0.00%                    100.00%\n",
      "42             0.000         0.00%                    100.00%\n",
      "43             0.000         0.00%                    100.00%\n",
      "44             0.000         0.00%                    100.00%\n",
      "45             0.000         0.00%                    100.00%\n",
      "46             0.000         0.00%                    100.00%\n",
      "47             0.000         0.00%                    100.00%\n",
      "48             0.000         0.00%                    100.00%\n",
      "49             0.000         0.00%                    100.00%\n",
      "50             0.000         0.00%                    100.00%\n",
      "51             0.000         0.00%                    100.00%\n",
      "52             0.000         0.00%                    100.00%\n",
      "53             0.000         0.00%                    100.00%\n",
      "54             0.000         0.00%                    100.00%\n",
      "55             0.000         0.00%                    100.00%\n",
      "56             0.000         0.00%                    100.00%\n",
      "57             0.000         0.00%                    100.00%\n"
     ]
    }
   ],
   "source": [
    "ca_codon_rscu_obj = CA.ca_codon(contingency_table=codon_rscu_cont)"
   ]
  },
  {
   "cell_type": "markdown",
   "id": "16d46e6a-e6d2-4f2a-84a6-17cad4164ab2",
   "metadata": {},
   "source": [
    "## AA Frequency"
   ]
  },
  {
   "cell_type": "code",
   "execution_count": 13,
   "id": "b26902ac-e85c-4d7b-be3c-766fc5fdbbc4",
   "metadata": {},
   "outputs": [
    {
     "name": "stdout",
     "output_type": "stream",
     "text": [
      "          eigenvalue % of variance % of variance (cumulative)\n",
      "component                                                    \n",
      "0              0.033        21.48%                     21.48%\n",
      "1              0.018        12.07%                     33.55%\n",
      "2              0.015        10.18%                     43.73%\n",
      "3              0.010         6.86%                     50.59%\n",
      "4              0.009         5.98%                     56.57%\n",
      "5              0.009         5.91%                     62.48%\n",
      "6              0.006         4.27%                     66.76%\n",
      "7              0.006         3.69%                     70.45%\n",
      "8              0.005         3.45%                     73.89%\n",
      "9              0.005         3.22%                     77.11%\n",
      "10             0.005         3.07%                     80.18%\n",
      "11             0.004         2.91%                     83.10%\n",
      "12             0.004         2.68%                     85.78%\n",
      "13             0.004         2.63%                     88.41%\n",
      "14             0.004         2.51%                     90.92%\n",
      "15             0.004         2.39%                     93.30%\n",
      "16             0.004         2.31%                     95.62%\n",
      "17             0.003         2.23%                     97.85%\n",
      "18             0.003         2.15%                    100.00%\n"
     ]
    }
   ],
   "source": [
    "ca_aa_count_obj = CA.ca_aa(contingency_table=aa_count_cont)"
   ]
  }
 ],
 "metadata": {
  "kernelspec": {
   "display_name": "Python 3 (ipykernel)",
   "language": "python",
   "name": "python3"
  },
  "language_info": {
   "codemirror_mode": {
    "name": "ipython",
    "version": 3
   },
   "file_extension": ".py",
   "mimetype": "text/x-python",
   "name": "python",
   "nbconvert_exporter": "python",
   "pygments_lexer": "ipython3",
   "version": "3.11.3"
  }
 },
 "nbformat": 4,
 "nbformat_minor": 5
}
