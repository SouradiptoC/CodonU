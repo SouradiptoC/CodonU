{
 "cells": [
  {
   "cell_type": "markdown",
   "id": "138312c1",
   "metadata": {},
   "source": [
    "# Introduction\n",
    "\n",
    "In this tutorail we will see how to perform correspondence analysis with CodonU"
   ]
  },
  {
   "cell_type": "code",
   "execution_count": 1,
   "id": "3abbe29c",
   "metadata": {},
   "outputs": [],
   "source": [
    "from CodonU import correspondence_analysis as ca"
   ]
  },
  {
   "cell_type": "markdown",
   "id": "7af50d88",
   "metadata": {},
   "source": [
    "# Setting file path"
   ]
  },
  {
   "cell_type": "code",
   "execution_count": 2,
   "id": "540b5408",
   "metadata": {},
   "outputs": [],
   "source": [
    "in_file = 'Nucleotide/Staphylococcus_agnetis_nucleotide.fasta'"
   ]
  },
  {
   "cell_type": "markdown",
   "id": "ff73ce4a",
   "metadata": {},
   "source": [
    "# Codon Frequency\n",
    "\n",
    "Below is an example of correspondence analysis by codon frequency. It returns the codon frequency table and inertia."
   ]
  },
  {
   "cell_type": "code",
   "execution_count": 3,
   "id": "e2e1434d",
   "metadata": {
    "scrolled": true
   },
   "outputs": [
    {
     "name": "stdout",
     "output_type": "stream",
     "text": [
      "The inertia for respective components are:\n",
      "Axis 1: 0.43688618125974205\n",
      "Axis 2: 0.06666253019066162\n",
      "Axis 3: 0.04978078833342895\n",
      "Axis 4: 0.04002175125107498\n",
      "Axis 5: 0.03202844595699311\n",
      "Axis 6: 0.028098105766517268\n",
      "Axis 7: 0.0189553377524884\n",
      "Axis 8: 0.017456309188710332\n",
      "Axis 9: 0.014991680800117892\n",
      "Axis 10: 0.013383914457395427\n",
      "Axis 11: 0.012825093390049214\n",
      "Axis 12: 0.012398185861001755\n",
      "Axis 13: 0.011339882643841852\n",
      "Axis 14: 0.010830506945397956\n",
      "Axis 15: 0.010555074845317959\n",
      "Axis 16: 0.009839549772340752\n",
      "Axis 17: 0.009177796418588442\n",
      "Axis 18: 0.009048474252904741\n",
      "Axis 19: 0.0090015934375606\n",
      "Axis 20: 0.008515895595533632\n",
      "Axis 21: 0.008102051574786037\n",
      "Axis 22: 0.007907589267393992\n",
      "Axis 23: 0.007490706628468261\n",
      "Axis 24: 0.007182687602830462\n",
      "Axis 25: 0.007013197468761022\n",
      "Axis 26: 0.006669296352471476\n",
      "Axis 27: 0.006488395198748283\n",
      "Axis 28: 0.006237605368592456\n",
      "Axis 29: 0.006092825550311124\n",
      "Axis 30: 0.005780818599918419\n",
      "Axis 31: 0.005747360775823807\n",
      "Axis 32: 0.005409436703696771\n",
      "Axis 33: 0.005251030567100266\n",
      "Axis 34: 0.005195782977986061\n",
      "Axis 35: 0.005001846219792414\n",
      "Axis 36: 0.004774586213431572\n",
      "Axis 37: 0.004750669405741895\n",
      "Axis 38: 0.004376950907507399\n",
      "Axis 39: 0.004339027460996021\n",
      "Axis 40: 0.004136407367991509\n",
      "Axis 41: 0.00410915654417927\n",
      "Axis 42: 0.003994821006759062\n",
      "Axis 43: 0.003901951337266185\n",
      "Axis 44: 0.003767146355399359\n",
      "Axis 45: 0.0036406463263941474\n",
      "Axis 46: 0.0034616394658472946\n",
      "Axis 47: 0.0034235359698276515\n",
      "Axis 48: 0.003283322437461758\n",
      "Axis 49: 0.0032270238140934084\n",
      "Axis 50: 0.003096249028325888\n",
      "Axis 51: 0.0029304193178313746\n",
      "Axis 52: 0.0029081301079822565\n",
      "Axis 53: 0.0026546972114820325\n",
      "Axis 54: 0.002522727092931622\n",
      "Axis 55: 0.002380855575017694\n",
      "Axis 56: 0.002213442812274367\n",
      "Axis 57: 0.002109268444894016\n",
      "Axis 58: 0.001992003403226066\n",
      "Axis 59: 0.001846148665071618\n"
     ]
    }
   ],
   "source": [
    "codon_freq_table, inertia = ca.mca_codon_freq(in_file, 11)"
   ]
  },
  {
   "cell_type": "markdown",
   "id": "1bcc8f04",
   "metadata": {},
   "source": [
    "The function when called, prints the inertia of mentioned axis. Default number of axis is 59. Though you can set it to any number.\n",
    "\n",
    "However `n_components` >= 2 is advised."
   ]
  },
  {
   "cell_type": "code",
   "execution_count": 4,
   "id": "e72277c6",
   "metadata": {
    "scrolled": false
   },
   "outputs": [
    {
     "name": "stdout",
     "output_type": "stream",
     "text": [
      "          TTT TTC TTA TTG TCT TCC TCA TCG TAT TAC  ... GCA GCG GAT GAC GAA   \n",
      "gene_0      1   0   1   0  16  10  23   1   0   0  ...   6   5  28  26  91  \\\n",
      "gene_1      5   2   9   4  12   3  11   0   1   0  ...   2   5  16   5   7   \n",
      "gene_2      0   0   5   2   0   2   3   0   1   0  ...   5   4   8   3  13   \n",
      "gene_3      1   2   9   2   0   0   0   0   0   0  ...   2   0   6   4  10   \n",
      "gene_4      1   0   5   4   2   0   5   0   0   1  ...   1   0  10   0  10   \n",
      "...        ..  ..  ..  ..  ..  ..  ..  ..  ..  ..  ...  ..  ..  ..  ..  ..   \n",
      "gene_2234  18   1  27   7   5   0   6   2   9   1  ...   6   6   3   1   6   \n",
      "gene_2235  18   4  20   7   6   0   5   4  12   5  ...   5   6  20   1  16   \n",
      "gene_2236   4   2  10   2   3   0   1   0   2   0  ...   4   0   1   0   2   \n",
      "gene_2237  11   3  14   3   5   0   1   3   5   2  ...   6   6   4   2   1   \n",
      "gene_2238   6   2   9   0   6   0   4   2   1   2  ...   3   4   7   1  10   \n",
      "\n",
      "          GAG GGT GGC GGA GGG  \n",
      "gene_0     35   1   1   0   0  \n",
      "gene_1      8   5   3   5   3  \n",
      "gene_2      3   3   0   5   1  \n",
      "gene_3      3   0   3   3   1  \n",
      "gene_4      1   2   0   2   0  \n",
      "...        ..  ..  ..  ..  ..  \n",
      "gene_2234   0   4   4   4   0  \n",
      "gene_2235   0   7   5  11   2  \n",
      "gene_2236   0   3   1   2   0  \n",
      "gene_2237   2  12   2   3   2  \n",
      "gene_2238   2   7   2   1   1  \n",
      "\n",
      "[2239 rows x 61 columns]\n"
     ]
    }
   ],
   "source": [
    "print(codon_freq_table)"
   ]
  },
  {
   "cell_type": "markdown",
   "id": "72e130c0",
   "metadata": {},
   "source": [
    "As can be seen above, the table is a pandas dataframe, and may be used other purposes"
   ]
  },
  {
   "cell_type": "code",
   "execution_count": 5,
   "id": "26cae667",
   "metadata": {},
   "outputs": [
    {
     "name": "stdout",
     "output_type": "stream",
     "text": [
      "[0.43688618 0.06666253 0.04978079 0.04002175 0.03202845 0.02809811\n",
      " 0.01895534 0.01745631 0.01499168 0.01338391 0.01282509 0.01239819\n",
      " 0.01133988 0.01083051 0.01055507 0.00983955 0.0091778  0.00904847\n",
      " 0.00900159 0.0085159  0.00810205 0.00790759 0.00749071 0.00718269\n",
      " 0.0070132  0.0066693  0.0064884  0.00623761 0.00609283 0.00578082\n",
      " 0.00574736 0.00540944 0.00525103 0.00519578 0.00500185 0.00477459\n",
      " 0.00475067 0.00437695 0.00433903 0.00413641 0.00410916 0.00399482\n",
      " 0.00390195 0.00376715 0.00364065 0.00346164 0.00342354 0.00328332\n",
      " 0.00322702 0.00309625 0.00293042 0.00290813 0.0026547  0.00252273\n",
      " 0.00238086 0.00221344 0.00210927 0.001992   0.00184615]\n"
     ]
    }
   ],
   "source": [
    "print(inertia)"
   ]
  },
  {
   "cell_type": "markdown",
   "id": "12d13f6e",
   "metadata": {},
   "source": [
    "As can be seen above inertia is a numpy array. This also can be used in other purposes,"
   ]
  },
  {
   "cell_type": "markdown",
   "id": "406da769",
   "metadata": {},
   "source": [
    "# Codon RSCU"
   ]
  },
  {
   "cell_type": "code",
   "execution_count": 6,
   "id": "59eb9fab",
   "metadata": {
    "scrolled": true
   },
   "outputs": [
    {
     "name": "stdout",
     "output_type": "stream",
     "text": [
      "The inertia for respective components are:\n",
      "Axis 1: 0.10752975098667153\n",
      "Axis 2: 0.0841069856630837\n",
      "Axis 3: 0.045565973424470906\n",
      "Axis 4: 0.03642701316077063\n",
      "Axis 5: 0.03221058409506917\n",
      "Axis 6: 0.030519024444016784\n",
      "Axis 7: 0.028966614304409378\n",
      "Axis 8: 0.028495283093950476\n",
      "Axis 9: 0.026852500076393046\n",
      "Axis 10: 0.026154877168158248\n",
      "Axis 11: 0.025429232202941767\n",
      "Axis 12: 0.024822557257491655\n",
      "Axis 13: 0.023970274969732155\n",
      "Axis 14: 0.023588692973398644\n",
      "Axis 15: 0.022939192243772954\n",
      "Axis 16: 0.022503865063561074\n",
      "Axis 17: 0.022169155123348584\n",
      "Axis 18: 0.02193203325486982\n",
      "Axis 19: 0.021138222214557606\n",
      "Axis 20: 0.020573162375145428\n",
      "Axis 21: 0.020349483917858072\n",
      "Axis 22: 0.019865451269695956\n",
      "Axis 23: 0.018792155050704328\n",
      "Axis 24: 0.01871909380504322\n",
      "Axis 25: 0.017557714937614696\n",
      "Axis 26: 0.017143010728060706\n",
      "Axis 27: 0.016958104181053785\n",
      "Axis 28: 0.01623536802415545\n",
      "Axis 29: 0.01600255134341609\n",
      "Axis 30: 0.015822942966013005\n",
      "Axis 31: 0.015424089646285239\n",
      "Axis 32: 0.015191184057391413\n",
      "Axis 33: 0.014890044808412148\n",
      "Axis 34: 0.014376998838681813\n",
      "Axis 35: 0.013983225325628726\n",
      "Axis 36: 0.013527751224765142\n",
      "Axis 37: 0.013348167972454588\n",
      "Axis 38: 0.013038213146767822\n",
      "Axis 39: 0.01242945734580166\n",
      "Axis 40: 0.011563625103508834\n",
      "Axis 41: 0.00888637221087409\n",
      "Axis 42: 4.447220466909427e-32\n",
      "Axis 43: 7.3020308873637156e-34\n",
      "Axis 44: 7.3020308873637156e-34\n",
      "Axis 45: 7.3020308873637156e-34\n",
      "Axis 46: 7.3020308873637156e-34\n",
      "Axis 47: 7.3020308873637156e-34\n",
      "Axis 48: 7.3020308873637156e-34\n",
      "Axis 49: 7.3020308873637156e-34\n",
      "Axis 50: 7.3020308873637156e-34\n",
      "Axis 51: 7.3020308873637156e-34\n",
      "Axis 52: 7.3020308873637156e-34\n",
      "Axis 53: 7.3020308873637156e-34\n",
      "Axis 54: 7.3020308873637156e-34\n",
      "Axis 55: 7.3020308873637156e-34\n",
      "Axis 56: 7.3020308873637156e-34\n",
      "Axis 57: 7.3020308873637156e-34\n",
      "Axis 58: 7.3020308873637156e-34\n",
      "Axis 59: 7.3020308873637156e-34\n"
     ]
    }
   ],
   "source": [
    "codon_freq_table, inertia = ca.mca_codon_rscu(in_file, 11)"
   ]
  },
  {
   "cell_type": "code",
   "execution_count": 7,
   "id": "add4ca87",
   "metadata": {},
   "outputs": [
    {
     "name": "stdout",
     "output_type": "stream",
     "text": [
      "                TTT       TTC       TTA       TTG       TCT       TCC   \n",
      "gene_1     1.333333  0.666667       1.5      0.75  1.794393  1.121495  \\\n",
      "gene_2     1.428571  0.571429  3.176471  1.411765  2.322581  0.580645   \n",
      "gene_3          1.0       1.0  2.068966  0.827586  0.315789  1.263158   \n",
      "gene_4     0.666667  1.333333       3.6       0.8  0.857143  0.857143   \n",
      "gene_5     1.333333  0.666667  2.142857  1.714286       1.2       0.3   \n",
      "...             ...       ...       ...       ...       ...       ...   \n",
      "gene_2235  1.894737  0.105263  3.306122  0.857143  1.176471  0.117647   \n",
      "gene_2236  1.636364  0.363636       3.0      1.05  1.714286  0.142857   \n",
      "gene_2237  1.333333  0.666667       3.0       0.6  2.117647  0.352941   \n",
      "gene_2238  1.571429  0.428571  2.754098  0.590164       2.0       0.2   \n",
      "gene_2239       1.5       0.5      4.32      0.24  1.846154  0.153846   \n",
      "\n",
      "                TCA       TCG       TAT       TAC  ...       GCA       GCG   \n",
      "gene_1     2.579439   0.11215       1.0       1.0  ...  0.888889  0.740741  \\\n",
      "gene_2     2.129032  0.096774  1.333333  0.666667  ...  0.695652   1.73913   \n",
      "gene_3     1.894737  0.315789  1.333333  0.666667  ...   1.73913  1.391304   \n",
      "gene_4     0.857143  0.857143       1.0       1.0  ...  1.777778  0.444444   \n",
      "gene_5          3.0       0.3  0.666667  1.333333  ...  1.333333  0.666667   \n",
      "...             ...       ...       ...       ...  ...       ...       ...   \n",
      "gene_2235  1.411765  0.470588       1.8       0.2  ...  1.263158  1.263158   \n",
      "gene_2236  1.428571  1.142857  1.411765  0.588235  ...  1.428571  1.714286   \n",
      "gene_2237  0.705882  0.352941       1.6       0.4  ...  1.882353  0.235294   \n",
      "gene_2238       0.4       1.2  1.428571  0.571429  ...  1.090909  1.090909   \n",
      "gene_2239  1.230769  0.615385  0.666667  1.333333  ...  1.142857   1.52381   \n",
      "\n",
      "                GAT       GAC       GAA       GAG       GGT       GGC   \n",
      "gene_1     1.037037  0.962963  1.444444  0.555556  1.333333  1.333333  \\\n",
      "gene_2      1.52381   0.47619  0.933333  1.066667      1.25      0.75   \n",
      "gene_3     1.454545  0.545455     1.625     0.375  1.263158  0.210526   \n",
      "gene_4          1.2       0.8  1.538462  0.461538  0.266667       1.6   \n",
      "gene_5     1.904762  0.095238  1.818182  0.181818       1.6       0.4   \n",
      "...             ...       ...       ...       ...       ...       ...   \n",
      "gene_2235       1.5       0.5  1.846154  0.153846      1.28      1.28   \n",
      "gene_2236  1.904762  0.095238  1.939394  0.060606      1.12       0.8   \n",
      "gene_2237  1.333333  0.666667       1.6       0.4  1.846154  0.615385   \n",
      "gene_2238  1.333333  0.666667  0.666667  1.333333  2.526316  0.421053   \n",
      "gene_2239      1.75      0.25  1.666667  0.333333  2.545455  0.727273   \n",
      "\n",
      "                GGA       GGG  \n",
      "gene_1     0.666667  0.666667  \n",
      "gene_2         1.25      0.75  \n",
      "gene_3     2.105263  0.421053  \n",
      "gene_4          1.6  0.533333  \n",
      "gene_5          1.6       0.4  \n",
      "...             ...       ...  \n",
      "gene_2235      1.28      0.16  \n",
      "gene_2236      1.76      0.32  \n",
      "gene_2237  1.230769  0.307692  \n",
      "gene_2238  0.631579  0.421053  \n",
      "gene_2239  0.363636  0.363636  \n",
      "\n",
      "[2239 rows x 61 columns]\n"
     ]
    }
   ],
   "source": [
    "print(codon_freq_table)"
   ]
  },
  {
   "cell_type": "markdown",
   "id": "b199a2e2",
   "metadata": {},
   "source": [
    "# Aminoacid Frequency"
   ]
  },
  {
   "cell_type": "code",
   "execution_count": 8,
   "id": "135f7d72",
   "metadata": {},
   "outputs": [],
   "source": [
    "in_file = 'Protein/Staphylococcus_agnetis_protein.fasta'"
   ]
  },
  {
   "cell_type": "code",
   "execution_count": 9,
   "id": "63009bd3",
   "metadata": {
    "scrolled": true
   },
   "outputs": [
    {
     "name": "stdout",
     "output_type": "stream",
     "text": [
      "The inertia for respective components are:\n",
      "Axis 1: 0.6254550930976684\n",
      "Axis 2: 0.0715471119994771\n",
      "Axis 3: 0.058329892600739806\n",
      "Axis 4: 0.04318016151240157\n",
      "Axis 5: 0.03405534592822272\n",
      "Axis 6: 0.030093038183922432\n",
      "Axis 7: 0.023121272142251285\n",
      "Axis 8: 0.02169315997882409\n",
      "Axis 9: 0.014768166431163682\n",
      "Axis 10: 0.012120943373111339\n",
      "Axis 11: 0.011230626827693182\n",
      "Axis 12: 0.009647772293775295\n",
      "Axis 13: 0.008540494412708372\n",
      "Axis 14: 0.0070818556118538685\n",
      "Axis 15: 0.006098523971042326\n",
      "Axis 16: 0.005470946365982657\n",
      "Axis 17: 0.005077189997554941\n",
      "Axis 18: 0.0046450029236310645\n",
      "Axis 19: 0.004353778849708551\n",
      "Axis 20: 0.0034896234982674966\n"
     ]
    }
   ],
   "source": [
    "aa_freq_table, inertia = ca.mca_aa_freq(in_file, 11)"
   ]
  },
  {
   "cell_type": "code",
   "execution_count": 10,
   "id": "dabc8f8a",
   "metadata": {},
   "outputs": [
    {
     "name": "stdout",
     "output_type": "stream",
     "text": [
      "            K   N   T   R   S   I   M   Q   H   P   L    E   D   A   G   V   \n",
      "prot_0     59   9  37   8  53   4   1   8   1   4   2  126  54  27   2   8  \\\n",
      "prot_1     85  18  18   9  30   9   6   9   4   3  16   15  21  11  16   4   \n",
      "prot_2     14  12   5   3   8   9   2   6   0   4  14   16  11  11   9  10   \n",
      "prot_3      2   6   3   6   1   6   4   5   2   1  14   13  10   4   7   6   \n",
      "prot_4      5   2   7   9   9  10   1   5   1   2  13   11  10   2   4   8   \n",
      "...        ..  ..  ..  ..  ..  ..  ..  ..  ..  ..  ..  ...  ..  ..  ..  ..   \n",
      "prot_2234  17   4  14   8  25  48  11  12   3  13  48    6   4  19  12  25   \n",
      "prot_2235  14  10  21  19  20  14   5  14  14   9  39   16  21  14  25  21   \n",
      "prot_2236   1   1   8   4   7  19   3   4   1   4  20    2   1   8   6   8   \n",
      "prot_2237   6   5  13   6  14  32  12   5   4   8  30    3   6  22  19  18   \n",
      "prot_2238   8   7   6   3  19   6   1   1   2   2  11   12   8  10  11   8   \n",
      "\n",
      "            Y  C  W   F  \n",
      "prot_0      0  0  1   1  \n",
      "prot_1      1  0  1   7  \n",
      "prot_2      1  0  2   0  \n",
      "prot_3      0  0  0   3  \n",
      "prot_4      1  0  0   1  \n",
      "...        .. .. ..  ..  \n",
      "prot_2234  10  1  2  19  \n",
      "prot_2235  17  3  3  22  \n",
      "prot_2236   2  1  3   6  \n",
      "prot_2237   7  3  3  14  \n",
      "prot_2238   3  0  1   8  \n",
      "\n",
      "[2239 rows x 20 columns]\n"
     ]
    }
   ],
   "source": [
    "print(aa_freq_table)"
   ]
  }
 ],
 "metadata": {
  "kernelspec": {
   "display_name": "Python 3 (ipykernel)",
   "language": "python",
   "name": "python3"
  },
  "language_info": {
   "codemirror_mode": {
    "name": "ipython",
    "version": 3
   },
   "file_extension": ".py",
   "mimetype": "text/x-python",
   "name": "python",
   "nbconvert_exporter": "python",
   "pygments_lexer": "ipython3",
   "version": "3.11.2"
  }
 },
 "nbformat": 4,
 "nbformat_minor": 5
}
