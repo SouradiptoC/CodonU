{
 "cells": [
  {
   "cell_type": "markdown",
   "id": "e0da4c43",
   "metadata": {},
   "source": [
    "# Introduction\n",
    "\n",
    "In this tutorial we will see how to analyse the data we just retrieved!"
   ]
  },
  {
   "cell_type": "code",
   "execution_count": 2,
   "id": "c28b6e99",
   "metadata": {},
   "outputs": [],
   "source": [
    "from CodonU import analyzer as an"
   ]
  },
  {
   "cell_type": "markdown",
   "id": "c97aa47f",
   "metadata": {},
   "source": [
    "# Setting file  path\n",
    "\n",
    "The whole genome fasta files contain more than 2000 genes, hence will create a significant amount of data is analyzed. Here i am going to restrain the analysis of first two genes of _Staphylococcus agnetis_."
   ]
  },
  {
   "cell_type": "code",
   "execution_count": 2,
   "id": "8b004747",
   "metadata": {},
   "outputs": [],
   "source": [
    "in_file = 'Nucleotide/test.fasta'\n",
    "# in_file = ''    your choice of file"
   ]
  },
  {
   "cell_type": "markdown",
   "id": "97e798ad",
   "metadata": {},
   "source": [
    "# Setting up necessary parameters\n",
    "\n",
    "Here we are going to set 3 parameters, viz.:\n",
    "- `genetic_code_num`: Genetic table number for codon table. To know more about genetic table number, click [here](https://www.ncbi.nlm.nih.gov/Taxonomy/Utils/wprintgc.cgi)\n",
    "- `gene_analysis`: If you want to perform gene analysis or genome analysis. Set `True` if you want to take account of indiviual gene, else set `False` if you want perform the gene as whole, rather as genome\n",
    "- `min_len_threshold`: Minimum length of nucleotide sequence to be considered as a gene"
   ]
  },
  {
   "cell_type": "code",
   "execution_count": 3,
   "id": "97d86a22",
   "metadata": {},
   "outputs": [],
   "source": [
    "genetic_code_num = 11\n",
    "gene_analysis = True\n",
    "min_len_threshold = 200"
   ]
  },
  {
   "cell_type": "markdown",
   "id": "7623852d",
   "metadata": {},
   "source": [
    "# CAI\n",
    "\n",
    "## Gene Analysis\n",
    "\n",
    "One word of caution, you may find something called `nan`, please look into first part of Generate Summary"
   ]
  },
  {
   "cell_type": "code",
   "execution_count": 5,
   "id": "dcab57cb",
   "metadata": {},
   "outputs": [],
   "source": [
    "cai = an.calculate_cai(in_file, genetic_code_num, min_len_threshold, gene_analysis)"
   ]
  },
  {
   "cell_type": "markdown",
   "id": "2113db98",
   "metadata": {},
   "source": [
    "Below written code is just for showing purpose and nothing else."
   ]
  },
  {
   "cell_type": "code",
   "execution_count": 6,
   "id": "e6f2b7f6",
   "metadata": {},
   "outputs": [
    {
     "name": "stdout",
     "output_type": "stream",
     "text": [
      "gene_1:\n",
      "    TTT: 1.0\n",
      "    TTC: 0.5\n",
      "    TTA: 1.0\n",
      "    TTG: 0.5\n",
      "    TCT: 0.6956521739130435\n",
      "    TCC: 0.43478260869565216\n",
      "    TCA: 1.0\n",
      "    TCG: 0.043478260869565216\n",
      "    TAT: 1.0\n",
      "    TAC: 1.0\n",
      "    TGT: 1.0\n",
      "    TGC: 1.0\n",
      "    TGG: nan\n",
      "    CTT: 0.5\n",
      "    CTC: 0.5\n",
      "    CTA: 0.5\n",
      "    CTG: 1.0\n",
      "    CCT: 1.0\n",
      "    CCC: 0.25\n",
      "    CCA: 0.5\n",
      "    CCG: 0.5\n",
      "    CAT: 1.0\n",
      "    CAC: 0.5\n",
      "    CAA: 1.0\n",
      "    CAG: 0.0625\n",
      "    CGT: 1.0\n",
      "    CGC: 0.25\n",
      "    CGA: 0.12500000000000003\n",
      "    CGG: 0.12500000000000003\n",
      "    ATT: 0.5\n",
      "    ATC: 1.0\n",
      "    ATA: 0.5\n",
      "    ATG: nan\n",
      "    ACT: 1.0\n",
      "    ACC: 0.2\n",
      "    ACA: 0.9333333333333333\n",
      "    ACG: 0.3333333333333333\n",
      "    AAT: 1.0\n",
      "    AAC: 0.2857142857142857\n",
      "    AAA: 1.0\n",
      "    AAG: 0.1346153846153846\n",
      "    AGT: 0.13043478260869565\n",
      "    AGC: 0.021739130434782608\n",
      "    AGA: 0.75\n",
      "    AGG: 0.12500000000000003\n",
      "    GTT: 1.0\n",
      "    GTC: 0.12500000000000003\n",
      "    GTA: 0.7500000000000001\n",
      "    GTG: 0.25\n",
      "    GCT: 1.0\n",
      "    GCC: 0.14285714285714285\n",
      "    GCA: 0.42857142857142855\n",
      "    GCG: 0.3571428571428572\n",
      "    GAT: 1.0\n",
      "    GAC: 0.9285714285714286\n",
      "    GAA: 1.0\n",
      "    GAG: 0.38461538461538464\n",
      "    GGT: 1.0\n",
      "    GGC: 1.0\n",
      "    GGA: 0.5\n",
      "    GGG: 0.5\n",
      "gene_2:\n",
      "    TTT: 1.0\n",
      "    TTC: 0.39999999999999997\n",
      "    TTA: 1.0\n",
      "    TTG: 0.4444444444444444\n",
      "    TCT: 1.0\n",
      "    TCC: 0.25\n",
      "    TCA: 0.9166666666666667\n",
      "    TCG: 0.04166666666666668\n",
      "    TAT: 1.0\n",
      "    TAC: 0.5\n",
      "    TGT: 1.0\n",
      "    TGC: 1.0\n",
      "    TGG: nan\n",
      "    CTT: 0.2222222222222222\n",
      "    CTC: 0.11111111111111109\n",
      "    CTA: 0.05555555555555554\n",
      "    CTG: 0.05555555555555554\n",
      "    CCT: 0.5\n",
      "    CCC: 0.25\n",
      "    CCA: 0.25\n",
      "    CCG: 1.0\n",
      "    CAT: 1.0\n",
      "    CAC: 0.3333333333333333\n",
      "    CAA: 1.0\n",
      "    CAG: 0.12500000000000003\n",
      "    CGT: 1.0\n",
      "    CGC: 1.0\n",
      "    CGA: 0.25\n",
      "    CGG: 1.0\n",
      "    ATT: 1.0\n",
      "    ATC: 0.08333333333333333\n",
      "    ATA: 0.5\n",
      "    ATG: nan\n",
      "    ACT: 0.2\n",
      "    ACC: 0.05000000000000001\n",
      "    ACA: 0.6\n",
      "    ACG: 1.0\n",
      "    AAT: 1.0\n",
      "    AAC: 0.6363636363636364\n",
      "    AAA: 1.0\n",
      "    AAG: 0.4912280701754386\n",
      "    AGT: 0.33333333333333337\n",
      "    AGC: 0.04166666666666668\n",
      "    AGA: 1.0\n",
      "    AGG: 0.5\n",
      "    GTT: 0.5\n",
      "    GTC: 0.25\n",
      "    GTA: 1.0\n",
      "    GTG: 0.5\n",
      "    GCT: 0.8\n",
      "    GCC: 0.10000000000000002\n",
      "    GCA: 0.4\n",
      "    GCG: 1.0\n",
      "    GAT: 1.0\n",
      "    GAC: 0.3125\n",
      "    GAA: 0.875\n",
      "    GAG: 1.0\n",
      "    GGT: 1.0\n",
      "    GGC: 0.6\n",
      "    GGA: 1.0\n",
      "    GGG: 0.6\n"
     ]
    }
   ],
   "source": [
    "# below code is just for performing the vizualization\n",
    "for gene in cai.keys():\n",
    "    print(f'{gene}:')\n",
    "    for codon, cai_val in cai[gene].items():\n",
    "        print(f'    {codon}: {cai_val}')"
   ]
  },
  {
   "cell_type": "markdown",
   "id": "4eeaf6a1",
   "metadata": {},
   "source": [
    "## Genome analysis"
   ]
  },
  {
   "cell_type": "code",
   "execution_count": 7,
   "id": "f6b4c26d",
   "metadata": {
    "scrolled": true
   },
   "outputs": [
    {
     "name": "stdout",
     "output_type": "stream",
     "text": [
      "TTT: 1.0\n",
      "TTC: 0.3333333333333333\n",
      "TTA: 1.0\n",
      "TTG: 0.4\n",
      "TCT: 0.8235294117647057\n",
      "TCC: 0.38235294117647056\n",
      "TCA: 1.0\n",
      "TCG: 0.02941176470588235\n",
      "TAT: 1.0\n",
      "TAC: 0.5\n",
      "TGT: 1.0\n",
      "TGC: 1.0\n",
      "TGG: nan\n",
      "CTT: 0.2\n",
      "CTC: 0.10000000000000002\n",
      "CTA: 0.05000000000000001\n",
      "CTG: 0.10000000000000002\n",
      "CCT: 1.0\n",
      "CCC: 0.16666666666666669\n",
      "CCA: 0.3333333333333333\n",
      "CCG: 1.0\n",
      "CAT: 1.0\n",
      "CAC: 0.25\n",
      "CAA: 1.0\n",
      "CAG: 0.0625\n",
      "CGT: 1.0\n",
      "CGC: 0.5\n",
      "CGA: 0.08333333333333333\n",
      "CGG: 0.3333333333333333\n",
      "ATT: 1.0\n",
      "ATC: 0.2857142857142857\n",
      "ATA: 0.5714285714285714\n",
      "ATG: nan\n",
      "ACT: 0.85\n",
      "ACC: 0.15\n",
      "ACA: 1.0\n",
      "ACG: 0.7499999999999999\n",
      "AAT: 1.0\n",
      "AAC: 0.5\n",
      "AAA: 1.0\n",
      "AAG: 0.3211009174311927\n",
      "AGT: 0.20588235294117643\n",
      "AGC: 0.014705882352941173\n",
      "AGA: 0.8333333333333333\n",
      "AGG: 0.16666666666666669\n",
      "GTT: 1.0\n",
      "GTC: 0.09999999999999998\n",
      "GTA: 1.0\n",
      "GTG: 0.39999999999999997\n",
      "GCT: 1.0\n",
      "GCC: 0.11111111111111109\n",
      "GCA: 0.4444444444444444\n",
      "GCG: 0.5555555555555556\n",
      "GAT: 1.0\n",
      "GAC: 0.7045454545454546\n",
      "GAA: 1.0\n",
      "GAG: 0.4387755102040816\n",
      "GGT: 1.0\n",
      "GGC: 0.6666666666666666\n",
      "GGA: 0.8333333333333334\n",
      "GGG: 0.5\n"
     ]
    }
   ],
   "source": [
    "cai = an.calculate_cai(in_file, genetic_code_num, min_len_threshold, gene_analysis=False)\n",
    "\n",
    "# below code is just for performing the vizualization\n",
    "for codon, cai_val in cai.items():\n",
    "    print(f'{codon}: {cai_val}')"
   ]
  },
  {
   "cell_type": "markdown",
   "id": "61267caf",
   "metadata": {},
   "source": [
    "## Saving the file\n",
    "\n",
    "Though you can work with CodonU in an easy pace, you may want to validate the data. Hence analyzer functions provide an easy way to save the data as .xlsx file.\n",
    "\n",
    "Three parameters are needed to change the behaviour of the function during saving the files, viz.:\n",
    "- `save_file`: If this is `True`, then the file will be saved, else not saved. (Default False)\n",
    "- `file_name`: File name without extension. (Default _operation_\\_report, where _operation_ may be CAI, RSCU etc.)\n",
    "- `folder_path`: Folder name or path where the file will be saved. (Default Report)\n",
    "\n",
    "It is not mandetory to give an existing folder. If a non-existing folder name is given, CodonU will create a folder by that name.\n",
    "\n",
    "__In order to save the file in excel format you must have the package [openpyxl](https://pypi.org/project/openpyxl/)__"
   ]
  },
  {
   "cell_type": "code",
   "execution_count": 8,
   "id": "b5a3a774",
   "metadata": {},
   "outputs": [
    {
     "name": "stdout",
     "output_type": "stream",
     "text": [
      "Report created successfully\n",
      "The CAI score file can be found at: /home/souro/Projects/CodonU/Examples/Report/CAI_report.xlsx\n"
     ]
    }
   ],
   "source": [
    "# file_name = ''\n",
    "# folder_path = ''\n",
    "cai = an.calculate_cai(in_file, genetic_code_num, save_file=True)"
   ]
  },
  {
   "cell_type": "markdown",
   "id": "1ac113c5",
   "metadata": {},
   "source": [
    "# RSCU\n",
    "\n",
    "## Gene analysis"
   ]
  },
  {
   "cell_type": "code",
   "execution_count": 23,
   "id": "b3dd36ce",
   "metadata": {},
   "outputs": [],
   "source": [
    "rscu = an.calculate_rscu(in_file, genetic_code_num, gene_analysis=True)"
   ]
  },
  {
   "cell_type": "markdown",
   "id": "ed7dd4c2",
   "metadata": {},
   "source": [
    "Below written code is just for vizualisation purpose."
   ]
  },
  {
   "cell_type": "code",
   "execution_count": 24,
   "id": "f222ae8e",
   "metadata": {},
   "outputs": [
    {
     "name": "stdout",
     "output_type": "stream",
     "text": [
      "gene_1:\n",
      "TTT: 1.3333333333333333\n",
      "TTC: 0.6666666666666666\n",
      "TTA: 1.5\n",
      "TTG: 0.75\n",
      "TCT: 1.7943925233644862\n",
      "TCC: 1.1214953271028039\n",
      "TCA: 2.579439252336449\n",
      "TCG: 0.11214953271028039\n",
      "TAT: 1.0\n",
      "TAC: 1.0\n",
      "TGT: 1.0\n",
      "TGC: 1.0\n",
      "TGG: 1.0\n",
      "CTT: 0.75\n",
      "CTC: 0.75\n",
      "CTA: 0.75\n",
      "CTG: 1.5\n",
      "CCT: 1.7777777777777777\n",
      "CCC: 0.4444444444444444\n",
      "CCA: 0.8888888888888888\n",
      "CCG: 0.8888888888888888\n",
      "CAT: 1.3333333333333333\n",
      "CAC: 0.6666666666666666\n",
      "CAA: 1.8823529411764706\n",
      "CAG: 0.11764705882352941\n",
      "CGT: 2.5263157894736845\n",
      "CGC: 0.6315789473684211\n",
      "CGA: 0.31578947368421056\n",
      "CGG: 0.31578947368421056\n",
      "ATT: 0.75\n",
      "ATC: 1.5\n",
      "ATA: 0.75\n",
      "ATG: 1.0\n",
      "ACT: 1.6216216216216217\n",
      "ACC: 0.32432432432432434\n",
      "ACA: 1.5135135135135136\n",
      "ACG: 0.5405405405405406\n",
      "AAT: 1.5555555555555556\n",
      "AAC: 0.4444444444444444\n",
      "AAA: 1.7627118644067796\n",
      "AAG: 0.23728813559322035\n",
      "AGT: 0.33644859813084116\n",
      "AGC: 0.05607476635514019\n",
      "AGA: 1.8947368421052633\n",
      "AGG: 0.31578947368421056\n",
      "GTT: 1.8823529411764706\n",
      "GTC: 0.23529411764705882\n",
      "GTA: 1.411764705882353\n",
      "GTG: 0.47058823529411764\n",
      "GCT: 2.074074074074074\n",
      "GCC: 0.2962962962962963\n",
      "GCA: 0.8888888888888888\n",
      "GCG: 0.7407407407407407\n",
      "GAT: 1.037037037037037\n",
      "GAC: 0.9629629629629629\n",
      "GAA: 1.4444444444444444\n",
      "GAG: 0.5555555555555556\n",
      "GGT: 1.3333333333333333\n",
      "GGC: 1.3333333333333333\n",
      "GGA: 0.6666666666666666\n",
      "GGG: 0.6666666666666666\n",
      "gene_2:\n",
      "TTT: 1.4285714285714286\n",
      "TTC: 0.5714285714285714\n",
      "TTA: 3.1764705882352944\n",
      "TTG: 1.411764705882353\n",
      "TCT: 2.3225806451612905\n",
      "TCC: 0.5806451612903226\n",
      "TCA: 2.1290322580645165\n",
      "TCG: 0.09677419354838711\n",
      "TAT: 1.3333333333333333\n",
      "TAC: 0.6666666666666666\n",
      "TGT: 1.0\n",
      "TGC: 1.0\n",
      "TGG: 1.0\n",
      "CTT: 0.7058823529411765\n",
      "CTC: 0.35294117647058826\n",
      "CTA: 0.17647058823529413\n",
      "CTG: 0.17647058823529413\n",
      "CCT: 1.0\n",
      "CCC: 0.5\n",
      "CCA: 0.5\n",
      "CCG: 2.0\n",
      "CAT: 1.5\n",
      "CAC: 0.5\n",
      "CAA: 1.7777777777777777\n",
      "CAG: 0.2222222222222222\n",
      "CGT: 1.2631578947368423\n",
      "CGC: 1.2631578947368423\n",
      "CGA: 0.31578947368421056\n",
      "CGG: 1.2631578947368423\n",
      "ATT: 1.8947368421052633\n",
      "ATC: 0.15789473684210528\n",
      "ATA: 0.9473684210526316\n",
      "ATG: 1.0\n",
      "ACT: 0.43243243243243246\n",
      "ACC: 0.10810810810810811\n",
      "ACA: 1.2972972972972974\n",
      "ACG: 2.1621621621621623\n",
      "AAT: 1.2222222222222223\n",
      "AAC: 0.7777777777777778\n",
      "AAA: 1.3411764705882352\n",
      "AAG: 0.6588235294117647\n",
      "AGT: 0.7741935483870969\n",
      "AGC: 0.09677419354838711\n",
      "AGA: 1.2631578947368423\n",
      "AGG: 0.6315789473684211\n",
      "GTT: 0.8888888888888888\n",
      "GTC: 0.4444444444444444\n",
      "GTA: 1.7777777777777777\n",
      "GTG: 0.8888888888888888\n",
      "GCT: 1.391304347826087\n",
      "GCC: 0.17391304347826086\n",
      "GCA: 0.6956521739130435\n",
      "GCG: 1.7391304347826086\n",
      "GAT: 1.5238095238095237\n",
      "GAC: 0.47619047619047616\n",
      "GAA: 0.9333333333333333\n",
      "GAG: 1.0666666666666667\n",
      "GGT: 1.25\n",
      "GGC: 0.75\n",
      "GGA: 1.25\n",
      "GGG: 0.75\n"
     ]
    }
   ],
   "source": [
    "for gene, rscu_vals in rscu.items():\n",
    "    print(f'{gene}:')\n",
    "    for codon, rscu_val in rscu_vals.items():\n",
    "        print(f'{codon}: {rscu_val}')"
   ]
  },
  {
   "cell_type": "markdown",
   "id": "31a3183f",
   "metadata": {},
   "source": [
    "## Genome analysis"
   ]
  },
  {
   "cell_type": "code",
   "execution_count": 25,
   "id": "f4bb7830",
   "metadata": {
    "scrolled": true
   },
   "outputs": [
    {
     "name": "stdout",
     "output_type": "stream",
     "text": [
      "TTT: 1.0\n",
      "TTC: 1.0\n",
      "TTA: 1.0\n",
      "TTG: 1.0\n",
      "TCT: 1.0\n",
      "TCC: 1.0\n",
      "TCA: 1.0\n",
      "TCG: 1.0\n",
      "TAT: 1.0\n",
      "TAC: 1.0\n",
      "TGT: 1.0\n",
      "TGC: 1.0\n",
      "TGG: 1.0\n",
      "CTT: 1.0\n",
      "CTC: 1.0\n",
      "CTA: 1.0\n",
      "CTG: 1.0\n",
      "CCT: 1.0\n",
      "CCC: 1.0\n",
      "CCA: 1.0\n",
      "CCG: 1.0\n",
      "CAT: 1.0\n",
      "CAC: 1.0\n",
      "CAA: 1.0\n",
      "CAG: 1.0\n",
      "CGT: 1.0\n",
      "CGC: 1.0\n",
      "CGA: 1.0\n",
      "CGG: 1.0\n",
      "ATT: 1.0\n",
      "ATC: 1.0\n",
      "ATA: 1.0\n",
      "ATG: 1.0\n",
      "ACT: 1.0\n",
      "ACC: 1.0\n",
      "ACA: 1.0\n",
      "ACG: 1.0\n",
      "AAT: 1.0\n",
      "AAC: 1.0\n",
      "AAA: 1.0\n",
      "AAG: 1.0\n",
      "AGT: 1.0\n",
      "AGC: 1.0\n",
      "AGA: 1.0\n",
      "AGG: 1.0\n",
      "GTT: 1.0\n",
      "GTC: 1.0\n",
      "GTA: 1.0\n",
      "GTG: 1.0\n",
      "GCT: 1.0\n",
      "GCC: 1.0\n",
      "GCA: 1.0\n",
      "GCG: 1.0\n",
      "GAT: 1.0\n",
      "GAC: 1.0\n",
      "GAA: 1.0\n",
      "GAG: 1.0\n",
      "GGT: 1.0\n",
      "GGC: 1.0\n",
      "GGA: 1.0\n",
      "GGG: 1.0\n"
     ]
    }
   ],
   "source": [
    "rscu = an.calculate_rscu(in_file, genetic_code_num)\n",
    "\n",
    "for codon, rscu_val in rscu.items():\n",
    "    print(f'{codon}: {rscu_val}')"
   ]
  },
  {
   "cell_type": "markdown",
   "id": "da319ea3",
   "metadata": {},
   "source": [
    "## Saving the file"
   ]
  },
  {
   "cell_type": "code",
   "execution_count": 26,
   "id": "414e7922",
   "metadata": {},
   "outputs": [
    {
     "name": "stdout",
     "output_type": "stream",
     "text": [
      "The RSCU score file can be found at: /home/souro/Projects/CodonU/Examples/Report/RSCU_report.xlsx\n"
     ]
    }
   ],
   "source": [
    "rscu = an.calculate_rscu(in_file, genetic_code_num, save_file=True)"
   ]
  },
  {
   "cell_type": "markdown",
   "id": "c90a04b1",
   "metadata": {},
   "source": [
    "# CBI\n",
    "\n",
    "## Gene Analysis"
   ]
  },
  {
   "cell_type": "code",
   "execution_count": 11,
   "id": "93b48f03",
   "metadata": {},
   "outputs": [],
   "source": [
    "cbi = an.calculate_cbi(in_file, genetic_code_num, min_len_threshold=66, gene_analysis=True)"
   ]
  },
  {
   "cell_type": "markdown",
   "id": "05e46317",
   "metadata": {},
   "source": [
    "__Note__: here `min_len_threshold = 66` because 66 amino acids is translated from 198 nucleotide base-pairs. For nucleotide ([CAI](#CAI)) `min_len_threshold = 200`, hence in this case it's 66. Also where ever the sequence is based on nucleotide, default value for `min_len_threshold` is 200; else if based on amino acid, the value is 66.\n",
    "\n",
    "Below written code is just for vizualisation purpose."
   ]
  },
  {
   "cell_type": "code",
   "execution_count": 17,
   "id": "0d49449c",
   "metadata": {
    "scrolled": true
   },
   "outputs": [
    {
     "name": "stdout",
     "output_type": "stream",
     "text": [
      "gene_1:\n",
      "    A: 0.35802469135802467\tGCT\n",
      "    C: nan\tNone\n",
      "    D: 0.037037037037037035\tGAT\n",
      "    E: 0.4444444444444444\tGAA\n",
      "    F: 1.0\tTTT\n",
      "    G: 0.3333333333333333\tGGT\n",
      "    H: 1.0\tCAT\n",
      "    I: 0.25\tATC\n",
      "    K: 0.7627118644067796\tAAA\n",
      "    L: 0.4\tTTA\n",
      "    M: nan\tATG\n",
      "    N: 0.5555555555555556\tAAT\n",
      "    P: 0.3333333333333333\tCCT\n",
      "    Q: 1.0\tCAA\n",
      "    R: 0.4\tCGT\n",
      "    S: 0.32075471698113206\tTCA\n",
      "    T: 0.2072072072072072\tACT\n",
      "    V: 0.3333333333333333\tGTT\n",
      "    W: nan\tTGG\n",
      "    Y: nan\tNone\n",
      "gene_2:\n",
      "    A: 0.2727272727272727\tGCG\n",
      "    C: nan\tNone\n",
      "    D: 0.5238095238095238\tGAT\n",
      "    E: 0.06666666666666667\tGAG\n",
      "    F: 0.42857142857142855\tTTT\n",
      "    G: 0.08333333333333333\tGGT\n",
      "    H: 0.5\tCAT\n",
      "    I: 0.5\tATT\n",
      "    K: 0.3411764705882353\tAAA\n",
      "    L: 0.47500000000000003\tTTA\n",
      "    M: nan\tATG\n",
      "    N: 0.2222222222222222\tAAT\n",
      "    P: 0.5555555555555556\tCCG\n",
      "    Q: 0.7777777777777778\tCAA\n",
      "    R: 0.06666666666666667\tCGT\n",
      "    S: 0.28\tTCT\n",
      "    T: 0.4074074074074074\tACG\n",
      "    V: 0.3333333333333333\tGTA\n",
      "    W: nan\tTGG\n",
      "    Y: 1.0\tTAT\n"
     ]
    }
   ],
   "source": [
    "for gene, cbi_vals in cbi.items():\n",
    "    print(f'{gene}:')\n",
    "    for aa, cbi_val in cbi_vals.items():\n",
    "        print(f'    {aa}: {cbi_val[0]}\\t{cbi_val[1]}')"
   ]
  },
  {
   "cell_type": "markdown",
   "id": "5e4aace2",
   "metadata": {},
   "source": [
    "## Genome Analysis"
   ]
  },
  {
   "cell_type": "code",
   "execution_count": 18,
   "id": "25cb4bf5",
   "metadata": {},
   "outputs": [],
   "source": [
    "cbi = an.calculate_cbi(in_file, genetic_code_num)"
   ]
  },
  {
   "cell_type": "markdown",
   "id": "3b1daf66",
   "metadata": {},
   "source": [
    "`gene_analysis` is not given here beacuse the default value is `False`.\n",
    "\n",
    "Below written code is just for vizualisation purpose."
   ]
  },
  {
   "cell_type": "code",
   "execution_count": 19,
   "id": "20cbec8a",
   "metadata": {
    "scrolled": true
   },
   "outputs": [
    {
     "name": "stdout",
     "output_type": "stream",
     "text": [
      "A: 0.2982456140350877\tGCT\n",
      "C: nan\tNone\n",
      "D: 0.17333333333333334\tGAT\n",
      "E: 0.3900709219858156\tGAA\n",
      "F: 0.5\tTTT\n",
      "G: 0.1111111111111111\tGGT\n",
      "H: 0.6\tCAT\n",
      "I: 0.3076923076923077\tATT\n",
      "K: 0.5138888888888888\tAAA\n",
      "L: 0.4666666666666667\tTTA\n",
      "M: nan\tATG\n",
      "N: 0.3333333333333333\tAAT\n",
      "P: 0.23809523809523808\tCCT\n",
      "Q: 0.8823529411764706\tCAA\n",
      "R: 0.2235294117647059\tCGT\n",
      "S: 0.2915662650602409\tTCA\n",
      "T: 0.15151515151515152\tACA\n",
      "V: 0.2222222222222222\tGTT\n",
      "W: nan\tTGG\n",
      "Y: 1.0\tTAT\n"
     ]
    }
   ],
   "source": [
    "for aa, cbi_vals in cbi.items():\n",
    "    print(f'{aa}: {cbi_vals[0]}\\t{cbi_vals[1]}')"
   ]
  },
  {
   "cell_type": "markdown",
   "id": "981568cb",
   "metadata": {},
   "source": [
    "## Saving the file"
   ]
  },
  {
   "cell_type": "code",
   "execution_count": 22,
   "id": "b5e2d6f8",
   "metadata": {},
   "outputs": [
    {
     "name": "stdout",
     "output_type": "stream",
     "text": [
      "Provided file not empty! Your action will result into completely changing the content of the file. Proceed [y/n]?: y\n",
      "The CBI score file can be found at: /home/souro/Projects/CodonU/Examples/Report/CBI_report.xlsx\n"
     ]
    }
   ],
   "source": [
    "cbi = an.calculate_cbi(in_file, genetic_code_num, save_file=True)"
   ]
  },
  {
   "cell_type": "markdown",
   "id": "2b49cc09",
   "metadata": {},
   "source": [
    "Above you can see a promt asking the user if (s)he wants to rewrite a file. CodonU will ask this if provided file is not empty."
   ]
  },
  {
   "cell_type": "markdown",
   "id": "407ae747",
   "metadata": {},
   "source": [
    "__For reducing redundency, i will now present the tutorial in short.__"
   ]
  },
  {
   "cell_type": "markdown",
   "id": "e8bc1ea8",
   "metadata": {},
   "source": [
    "# ENc"
   ]
  },
  {
   "cell_type": "code",
   "execution_count": 29,
   "id": "85229d02",
   "metadata": {},
   "outputs": [
    {
     "name": "stdout",
     "output_type": "stream",
     "text": [
      "gene_1: 52.08838655503453\n",
      "gene_2: 48.18721859443946\n"
     ]
    }
   ],
   "source": [
    "enc = an.calculate_enc(in_file, genetic_code_num, gene_analysis=True)\n",
    "\n",
    "for gene, enc_val in enc.items():\n",
    "    print(f'{gene}: {enc_val}')"
   ]
  },
  {
   "cell_type": "code",
   "execution_count": 30,
   "id": "cb7b4aed",
   "metadata": {},
   "outputs": [
    {
     "name": "stdout",
     "output_type": "stream",
     "text": [
      "45.59355469644335\n"
     ]
    }
   ],
   "source": [
    "enc = an.calculate_enc(in_file, genetic_code_num)    # gene_analysis = False essentially means genome analysis\n",
    "\n",
    "print(enc)"
   ]
  },
  {
   "cell_type": "code",
   "execution_count": 31,
   "id": "186304aa",
   "metadata": {},
   "outputs": [
    {
     "name": "stdout",
     "output_type": "stream",
     "text": [
      "The ENc score file can be found at: /home/souro/Projects/CodonU/Examples/Report/ENc_report.xlsx\n"
     ]
    }
   ],
   "source": [
    "enc = an.calculate_enc(in_file, genetic_code_num, gene_analysis=True, save_file=True)"
   ]
  },
  {
   "cell_type": "markdown",
   "id": "d312fc8c",
   "metadata": {},
   "source": [
    "# Aromaticity"
   ]
  },
  {
   "cell_type": "code",
   "execution_count": 33,
   "id": "5c76c919",
   "metadata": {},
   "outputs": [],
   "source": [
    "in_file = 'Protein/test.fasta'"
   ]
  },
  {
   "cell_type": "markdown",
   "id": "6cb22438",
   "metadata": {},
   "source": [
    "As aromaticity and gravy scores are for proteins, hence i've changed the file path."
   ]
  },
  {
   "cell_type": "code",
   "execution_count": 34,
   "id": "3bd4fc25",
   "metadata": {},
   "outputs": [
    {
     "name": "stdout",
     "output_type": "stream",
     "text": [
      "prot_seq1: 0.0049382716049382715\n",
      "prot_seq2: 0.03180212014134275\n"
     ]
    }
   ],
   "source": [
    "aroma = an.calculate_aromaticity(in_file, gene_analysis=True)\n",
    "\n",
    "for prot, val in aroma.items():\n",
    "    print(f'{prot}: {val}')"
   ]
  },
  {
   "cell_type": "code",
   "execution_count": 35,
   "id": "dec91009",
   "metadata": {},
   "outputs": [
    {
     "name": "stdout",
     "output_type": "stream",
     "text": [
      "0.015988372093023256\n"
     ]
    }
   ],
   "source": [
    "aroma = an.calculate_aromaticity(in_file, gene_analysis=False)\n",
    "\n",
    "print(aroma)"
   ]
  },
  {
   "cell_type": "code",
   "execution_count": 36,
   "id": "9ef1f3e1",
   "metadata": {
    "scrolled": true
   },
   "outputs": [
    {
     "name": "stdout",
     "output_type": "stream",
     "text": [
      "The Aromaticity score file can be found at: /home/souro/Projects/CodonU/Examples/Report/Aroma_report.xlsx\n"
     ]
    }
   ],
   "source": [
    "aroma = an.calculate_aromaticity(in_file, gene_analysis=True, save_file=True)"
   ]
  },
  {
   "cell_type": "markdown",
   "id": "b6dd25ce",
   "metadata": {},
   "source": [
    "# GRAVY"
   ]
  },
  {
   "cell_type": "code",
   "execution_count": 38,
   "id": "0c0f46c5",
   "metadata": {},
   "outputs": [
    {
     "name": "stdout",
     "output_type": "stream",
     "text": [
      "prot_seq1: -2.2782716049382694\n",
      "prot_seq2: -1.718727915194343\n"
     ]
    }
   ],
   "source": [
    "gravy = an.calculate_gravy(in_file, gene_analysis=True)\n",
    "\n",
    "for aa, val in gravy.items():\n",
    "    print(f'{aa}: {val}')"
   ]
  },
  {
   "cell_type": "code",
   "execution_count": 39,
   "id": "511f97ff",
   "metadata": {},
   "outputs": [
    {
     "name": "stdout",
     "output_type": "stream",
     "text": [
      "-2.0481104651162876\n"
     ]
    }
   ],
   "source": [
    "gravy = an.calculate_gravy(in_file)\n",
    "\n",
    "print(gravy)"
   ]
  },
  {
   "cell_type": "code",
   "execution_count": 40,
   "id": "8a853641",
   "metadata": {},
   "outputs": [
    {
     "name": "stdout",
     "output_type": "stream",
     "text": [
      "The GRAVY score file can be found at: /home/souro/Projects/CodonU/Examples/Report/GRAVY_report.xlsx\n"
     ]
    }
   ],
   "source": [
    "gravy = an.calculate_gravy(in_file, gene_analysis=True, save_file=True)"
   ]
  },
  {
   "cell_type": "markdown",
   "id": "bd641143",
   "metadata": {},
   "source": [
    "# Generate Summary\n",
    "\n",
    "If you are interested in only the results of all the operations all at once, then behold! CodonU also provides you two functions, viz.\n",
    "- `generate_report`: Best for gene analysis\n",
    "- `generate_report_summary`: Best for genome analysis\n",
    "\n",
    "__Note:__ Both the functions take the type of file in second argument. Please set\n",
    "- `_type = 'nuc'` for nucleotide analysis\n",
    "- `_type = 'aa'` for protein analysis"
   ]
  },
  {
   "cell_type": "markdown",
   "id": "7dc21736",
   "metadata": {},
   "source": [
    "## Nucleotide Analysis"
   ]
  },
  {
   "cell_type": "code",
   "execution_count": 43,
   "id": "448f81fb",
   "metadata": {},
   "outputs": [
    {
     "name": "stdout",
     "output_type": "stream",
     "text": [
      "Calculating RSCU, please be patient, this may take some time.\n",
      "Calculating CAI, please be patient, this may take some time.\n",
      "Calculating CBI, please be patient, this may take some time.\n",
      "Calculating ENc, please be patient, this may take some time.\n",
      "\n",
      "The report can be found at /home/souro/Projects/CodonU/Examples/Report/report_test_nuc.txt\n"
     ]
    }
   ],
   "source": [
    "in_file = 'Nucleotide/test.fasta'\n",
    "an.generate_report(in_file, 'nuc', 11, 200)"
   ]
  },
  {
   "cell_type": "code",
   "execution_count": 44,
   "id": "5a36d743",
   "metadata": {},
   "outputs": [
    {
     "name": "stdout",
     "output_type": "stream",
     "text": [
      "Calculating ENc, please be patient, this may take some time.\n",
      "Calculating CAI, please be patient, this may take some time.\n",
      "Calculating CBI, please be patient, this may take some time.\n",
      "Calculating RSCU, please be patient, this may take some time.\n",
      "\n",
      "The report can be found at /home/souro/Projects/CodonU/Examples/Report/summary_report_test_nuc.txt\n"
     ]
    }
   ],
   "source": [
    "an.generate_report_summary(in_file, 'nuc', 11, 200)"
   ]
  },
  {
   "cell_type": "markdown",
   "id": "c3369f35",
   "metadata": {},
   "source": [
    "## Protein Analysis"
   ]
  },
  {
   "cell_type": "code",
   "execution_count": 45,
   "id": "7c550e52",
   "metadata": {},
   "outputs": [
    {
     "name": "stdout",
     "output_type": "stream",
     "text": [
      "Calculating GRAVY score, please be patient, this may take some time.\n",
      "Calculating aromaticity, please be patient, this may take some time.\n",
      "\n",
      "The report can be found at /home/souro/Projects/CodonU/Examples/Report/report_test_aa.txt\n"
     ]
    }
   ],
   "source": [
    "in_file = 'Protein/test.fasta'\n",
    "an.generate_report(in_file, 'aa', 11, 66)"
   ]
  },
  {
   "cell_type": "code",
   "execution_count": 48,
   "id": "c0e0ad98",
   "metadata": {
    "scrolled": true
   },
   "outputs": [
    {
     "name": "stdout",
     "output_type": "stream",
     "text": [
      "Calculating GRAVY score, please be patient, this may take some time.\n",
      "Calculating aromaticity, please be patient, this may take some time.\n",
      "\n",
      "The report can be found at /home/souro/Projects/CodonU/Examples/Report/summary_report_test_aa.txt\n"
     ]
    }
   ],
   "source": [
    "an.generate_report_summary(in_file, 'aa', 11, 66)"
   ]
  },
  {
   "cell_type": "markdown",
   "id": "bb481870",
   "metadata": {},
   "source": [
    "# tAI\n",
    "\n",
    "You can retrieve tRNA gene copy number from two famous web serevers, i.e.\n",
    "  -  GtRNAdb [http://gtrnadb.ucsc.edu/](http://gtrnadb.ucsc.edu/)\n",
    "  -  tRNADB-CE [http://trna.ie.niigata-u.ac.jp/cgi-bin/trnadb/index.cgi](http://trna.ie.niigata-u.ac.jp/cgi-bin/trnadb/index.cgi)\n",
    "  \n",
    "In order to retrieve the data you just need to give the link, and type of database. Here we will be retrieveing the data for *Staphylococcus aureus subsp. aureus str. Newman*"
   ]
  },
  {
   "cell_type": "code",
   "execution_count": 2,
   "id": "fc0609bb",
   "metadata": {},
   "outputs": [],
   "source": [
    "url = 'http://gtrnadb.ucsc.edu/GtRNAdb2/genomes/bacteria/Stap_aure_aureus_Newman/'\n",
    "\n",
    "anti_codon_dict = an.get_anticodon_count_dict(\n",
    "    url = url,\n",
    "    database='GtRNAdb'\n",
    ")"
   ]
  },
  {
   "cell_type": "code",
   "execution_count": 3,
   "id": "cb54e7c6",
   "metadata": {},
   "outputs": [
    {
     "name": "stdout",
     "output_type": "stream",
     "text": [
      "IGC: 0\n",
      "GGC: 0\n",
      "CGC: 0\n",
      "UGC: 3\n",
      "ICC: 0\n",
      "GCC: 2\n",
      "CCC: 0\n",
      "UCC: 5\n",
      "IGG: 0\n",
      "GGG: 0\n",
      "CGG: 0\n",
      "UGG: 2\n",
      "IGU: 0\n",
      "GGU: 0\n",
      "CGU: 0\n",
      "UGU: 3\n",
      "IAC: 0\n",
      "GAC: 0\n",
      "CAC: 0\n",
      "UAC: 3\n",
      "IGA: 0\n",
      "GGA: 1\n",
      "CGA: 0\n",
      "UGA: 3\n",
      "GCU: 1\n",
      "ICG: 2\n",
      "GCG: 0\n",
      "CCG: 1\n",
      "UCG: 0\n",
      "CCU: 0\n",
      "UCU: 1\n",
      "IAG: 0\n",
      "GAG: 1\n",
      "CAG: 0\n",
      "UAG: 1\n",
      "CAA: 1\n",
      "UAA: 2\n",
      "GAA: 2\n",
      "GUU: 3\n",
      "CUU: 0\n",
      "UUU: 3\n",
      "GUC: 4\n",
      "CUC: 0\n",
      "UUC: 3\n",
      "GUG: 2\n",
      "CUG: 0\n",
      "UUG: 2\n",
      "IAU: 0\n",
      "GAU: 2\n",
      "CAU: 4\n",
      "UAU: 0\n",
      "GUA: 2\n",
      "UCA: 0\n",
      "CUA: 0\n",
      "UUA: 0\n",
      "GCA: 1\n",
      "CCA: 1\n"
     ]
    }
   ],
   "source": [
    "for anti_codon, count in anti_codon_dict.items():\n",
    "    print(f'{anti_codon}: {count}')"
   ]
  },
  {
   "cell_type": "markdown",
   "id": "eeb0e240",
   "metadata": {},
   "source": [
    "Now we will look into the function that calculates tAI, the name is `calculate_gtai`. The parameters for the functions are:\n",
    "  - `handle`: Path to the fasta file as a string\n",
    "  - `anticodon_dict`: The dictionary containing anticodon as key and count as value\n",
    "  - `genetic_code_num`: Genetic table number for codon table\n",
    "  - `reference`: Path to the reference fasta file as a string (Optional)\n",
    "  - `size_pop`: A parameter for the genetic algorithm to identify the population size (Optional)\n",
    "  - `generation_num`: A parameter for the genetic algorithm to identify the generation number (Optional)\n",
    "  - `save_file`: Option for saving the values in xlsx format (Optional)\n",
    "  - `file_name`: Intended file name (Optional)\n",
    "  - `folder_path`: Folder path where image should be saved (optional)\n",
    "  \n",
    "The function returns following dataframes:\n",
    "  - `tai_df`: The dataframe contains gene description and tAI values\n",
    "  - `abs_wi_df`: The dataframe contains each anticodon and absolute weights according to the paper\n",
    "  - `rel_wi_df`: The dataframe contains each anticodon and relative weights according to the paper\n",
    "  \n",
    "Also it is worth mentioning here that a file named `best_fit.py` will be containing the values of iteration number, values of sij , and fitness. Also a `.enc` file will be created.\n",
    "\n",
    "As the function invloves parser, it is uploaded as a seperate file named [`tRNA.py`](https://github.com/SouradiptoC/CodonU/blob/8da5f9109433fb6048922f74543da238c8b7f970/Examples/tRNA.py)"
   ]
  },
  {
   "cell_type": "markdown",
   "id": "d21881f7-7266-4a81-943b-e09ea992f214",
   "metadata": {},
   "source": [
    "# Customized Codon Table\n",
    "\n",
    "In this section we will see how to create custom codon table"
   ]
  },
  {
   "cell_type": "code",
   "execution_count": 1,
   "id": "be7525e1-960d-4a4f-aab9-fdc91eec79b1",
   "metadata": {},
   "outputs": [],
   "source": [
    "table_name = 'My_custom_name'\n",
    "table_name_alt = 'MyCusNameAlt'    # this name is optional\n",
    "table_id = 101\n",
    "forward_table = {    # This must be a dictionary\n",
    "    \"TTT\": \"F\", \"TTC\": \"F\", \"TTA\": \"L\", \"TTG\": \"L\",\n",
    "    \"TCT\": \"S\", \"TCC\": \"S\", \"TCA\": \"S\", \"TCG\": \"S\",\n",
    "    \"TAT\": \"Y\", \"TAC\": \"Y\",                           # noqa: E241, this is for autopep formatter\n",
    "    \"TGT\": \"C\", \"TGC\": \"C\",             \"TGG\": \"W\",   # noqa: E241\n",
    "    \"CTT\": \"L\", \"CTC\": \"L\", \"CTA\": \"L\", \"CTG\": \"L\",\n",
    "    \"CCT\": \"P\", \"CCC\": \"P\", \"CCA\": \"P\", \"CCG\": \"P\",\n",
    "    \"CAT\": \"H\", \"CAC\": \"H\", \"CAA\": \"Q\", \"CAG\": \"Q\",\n",
    "    \"CGT\": \"R\", \"CGC\": \"R\", \"CGA\": \"R\", \"CGG\": \"R\",\n",
    "    \"ATT\": \"I\", \"ATC\": \"I\", \"ATA\": \"I\", \"ATG\": \"M\",\n",
    "    \"ACT\": \"T\", \"ACC\": \"T\", \"ACA\": \"T\", \"ACG\": \"T\",\n",
    "    \"AAT\": \"N\", \"AAC\": \"N\", \"AAA\": \"K\", \"AAG\": \"K\",\n",
    "    \"AGT\": \"S\", \"AGC\": \"S\", \"AGA\": \"R\", \"AGG\": \"R\",\n",
    "    \"GTT\": \"V\", \"GTC\": \"V\", \"GTA\": \"V\", \"GTG\": \"V\",\n",
    "    \"GCT\": \"A\", \"GCC\": \"A\", \"GCA\": \"A\", \"GCG\": \"A\",\n",
    "    \"GAT\": \"D\", \"GAC\": \"D\", \"GAA\": \"E\", \"GAG\": \"E\",\n",
    "    \"GGT\": \"G\", \"GGC\": \"G\", \"GGA\": \"G\", \"GGG\": \"G\",\n",
    "}    # Note: Stop codons must be excluded\n",
    "stop_codons=[\"TAA\", \"TAG\", \"TGA\"]\n",
    "start_codons=[\"TTG\", \"CTG\", \"ATT\", \"ATC\", \"ATA\", \"ATG\", \"GTG\"]"
   ]
  },
  {
   "cell_type": "code",
   "execution_count": 3,
   "id": "5badd34b-7054-4b8a-bc4e-22d7fe2883df",
   "metadata": {},
   "outputs": [],
   "source": [
    "an.custom_codon_table(\n",
    "    name=table_name,\n",
    "    alt_name=table_name_alt,\n",
    "    genetic_code_id=table_id,\n",
    "    forward_table=forward_table,\n",
    "    stop_codons=stop_codons,\n",
    "    start_codons=start_codons\n",
    ")"
   ]
  },
  {
   "cell_type": "code",
   "execution_count": 4,
   "id": "341c123c-71b3-49c0-a727-dec90a391d29",
   "metadata": {},
   "outputs": [
    {
     "name": "stdout",
     "output_type": "stream",
     "text": [
      "Table 101 My_custom_name, MyCusNameAlt\n",
      "\n",
      "  |  T      |  C      |  A      |  G      |\n",
      "--+---------+---------+---------+---------+--\n",
      "T | TTT F   | TCT S   | TAT Y   | TGT C   | T\n",
      "T | TTC F   | TCC S   | TAC Y   | TGC C   | C\n",
      "T | TTA L   | TCA S   | TAA Stop| TGA Stop| A\n",
      "T | TTG L(s)| TCG S   | TAG Stop| TGG W   | G\n",
      "--+---------+---------+---------+---------+--\n",
      "C | CTT L   | CCT P   | CAT H   | CGT R   | T\n",
      "C | CTC L   | CCC P   | CAC H   | CGC R   | C\n",
      "C | CTA L   | CCA P   | CAA Q   | CGA R   | A\n",
      "C | CTG L(s)| CCG P   | CAG Q   | CGG R   | G\n",
      "--+---------+---------+---------+---------+--\n",
      "A | ATT I(s)| ACT T   | AAT N   | AGT S   | T\n",
      "A | ATC I(s)| ACC T   | AAC N   | AGC S   | C\n",
      "A | ATA I(s)| ACA T   | AAA K   | AGA R   | A\n",
      "A | ATG M(s)| ACG T   | AAG K   | AGG R   | G\n",
      "--+---------+---------+---------+---------+--\n",
      "G | GTT V   | GCT A   | GAT D   | GGT G   | T\n",
      "G | GTC V   | GCC A   | GAC D   | GGC G   | C\n",
      "G | GTA V   | GCA A   | GAA E   | GGA G   | A\n",
      "G | GTG V(s)| GCG A   | GAG E   | GGG G   | G\n",
      "--+---------+---------+---------+---------+--\n"
     ]
    }
   ],
   "source": [
    "from Bio.Data.CodonTable import unambiguous_dna_by_id\n",
    "print(unambiguous_dna_by_id[table_id])"
   ]
  },
  {
   "cell_type": "markdown",
   "id": "4c904389-7998-40c4-9510-5111c78d6920",
   "metadata": {},
   "source": [
    "### Length and GC contents"
   ]
  },
  {
   "cell_type": "code",
   "execution_count": 1,
   "id": "51540faf-7051-4a2d-bfee-1a4eae6e503d",
   "metadata": {},
   "outputs": [],
   "source": [
    "from Bio.Seq import Seq\n",
    "from CodonU.analyzer.internal_comp import g3, a3, gc_123, at_123"
   ]
  },
  {
   "cell_type": "code",
   "execution_count": 2,
   "id": "3292a129-3328-4029-87ac-6f6e5c00e0f8",
   "metadata": {},
   "outputs": [],
   "source": [
    "seq = Seq('ATGAAACGCATTAGCACCACCATTACCACCACCATCACCATTACCACAGGTAACGGTGCGGGCTGA')"
   ]
  },
  {
   "cell_type": "code",
   "execution_count": 3,
   "id": "3aa66759-e1f8-44bb-a96d-955735599b4f",
   "metadata": {},
   "outputs": [
    {
     "data": {
      "text/plain": [
       "66"
      ]
     },
     "execution_count": 3,
     "metadata": {},
     "output_type": "execute_result"
    }
   ],
   "source": [
    "length = len(seq)\n",
    "length"
   ]
  },
  {
   "cell_type": "code",
   "execution_count": 4,
   "id": "09a580a5-9e69-4a5a-8035-cbfe8f57dc5c",
   "metadata": {},
   "outputs": [
    {
     "data": {
      "text/plain": [
       "9.090909090909092"
      ]
     },
     "execution_count": 4,
     "metadata": {},
     "output_type": "execute_result"
    }
   ],
   "source": [
    "g_3 = g3(seq)\n",
    "g_3"
   ]
  },
  {
   "cell_type": "code",
   "execution_count": 5,
   "id": "107708a6-d273-4dc0-b97c-a3cf595bd6c6",
   "metadata": {},
   "outputs": [
    {
     "data": {
      "text/plain": [
       "13.636363636363635"
      ]
     },
     "execution_count": 5,
     "metadata": {},
     "output_type": "execute_result"
    }
   ],
   "source": [
    "a_3 = a3(seq)\n",
    "a_3"
   ]
  },
  {
   "cell_type": "code",
   "execution_count": 7,
   "id": "648204ce-435f-4d27-a7bb-6891b4d172a9",
   "metadata": {},
   "outputs": [
    {
     "data": {
      "text/plain": [
       "(51.515151515151516, 22.727272727272727, 68.18181818181819, 63.63636363636363)"
      ]
     },
     "execution_count": 7,
     "metadata": {},
     "output_type": "execute_result"
    }
   ],
   "source": [
    "gc123 = gc_123(seq)\n",
    "gc123\n",
    "# total, for first, second and third positions"
   ]
  },
  {
   "cell_type": "code",
   "execution_count": 8,
   "id": "4d2ad29c-bc59-4ca3-8ad5-54e29d40cee2",
   "metadata": {},
   "outputs": [
    {
     "data": {
      "text/plain": [
       "(48.484848484848484, 77.27272727272728, 31.818181818181813, 36.36363636363637)"
      ]
     },
     "execution_count": 8,
     "metadata": {},
     "output_type": "execute_result"
    }
   ],
   "source": [
    "at123 = at_123(seq)\n",
    "at123\n",
    "# total, for first, second and third positions"
   ]
  }
 ],
 "metadata": {
  "kernelspec": {
   "display_name": "Python 3 (ipykernel)",
   "language": "python",
   "name": "python3"
  },
  "language_info": {
   "codemirror_mode": {
    "name": "ipython",
    "version": 3
   },
   "file_extension": ".py",
   "mimetype": "text/x-python",
   "name": "python",
   "nbconvert_exporter": "python",
   "pygments_lexer": "ipython3",
   "version": "3.11.3"
  }
 },
 "nbformat": 4,
 "nbformat_minor": 5
}
