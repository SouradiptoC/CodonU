{
 "cells": [
  {
   "cell_type": "markdown",
   "id": "84e3f509",
   "metadata": {},
   "source": [
    "# Introduction\n",
    "\n",
    "Welcome to the tutorial of `CodonU`. In this part we will see about file hadnling by CodonU. In this tutorial, we will fetch some genebank file from [NCBI](https://www.ncbi.nlm.nih.gov/)"
   ]
  },
  {
   "cell_type": "code",
   "execution_count": null,
   "id": "9999f433",
   "metadata": {},
   "outputs": [],
   "source": [
    "# If you already haven't installed it, install it\n",
    "# pip install CodonU"
   ]
  },
  {
   "cell_type": "code",
   "execution_count": 1,
   "id": "6f83e489",
   "metadata": {},
   "outputs": [],
   "source": [
    "from CodonU.file_handler import make_dir, set_entrez_param    # for making directories and set entrez parameters\n",
    "from CodonU.file_handler import write_exome_fasta, write_nucleotide_fasta, write_protein_fasta    # retrieveing data\n",
    "import pandas as pd    # we will need it for reading the data\n",
    "from os.path import join    # we will need it for writing the files"
   ]
  },
  {
   "cell_type": "markdown",
   "id": "b5e774aa",
   "metadata": {},
   "source": [
    "# Setting entrenz parameter\n",
    "\n",
    "One word of caution, in order to use the package for data fetching, you may consider to link your google account with NCBI. After that, you can get your API key. For details, click [here](https://support.nlm.nih.gov/knowledgebase/article/KA-05317/en-us).\n",
    "\n",
    "If you don't set the parameters, it will affect the retrival speed, and will show you a warning (as you will look below, as i will not use my API here)."
   ]
  },
  {
   "cell_type": "code",
   "execution_count": null,
   "id": "600798df",
   "metadata": {},
   "outputs": [],
   "source": [
    "# Below we are setting the email and api value which are of string in nature\n",
    "# email, api = '', ''\n",
    "# fh.set_entrez_param(email=email, api_key=api)"
   ]
  },
  {
   "cell_type": "markdown",
   "id": "b4f5d8c9",
   "metadata": {},
   "source": [
    "# Making directories\n",
    "\n",
    "I will confine myself to a certain file and folder structure. You can make certain directories to organize your results."
   ]
  },
  {
   "cell_type": "code",
   "execution_count": 4,
   "id": "4c31743b",
   "metadata": {
    "scrolled": true
   },
   "outputs": [],
   "source": [
    "folder_path_dict = {\n",
    "    'nucleo': 'Nucleotide',\n",
    "    'exome': 'Exome',\n",
    "    'prot': 'Protein'\n",
    "}\n",
    "\n",
    "for path in folder_path_dict.keys():\n",
    "    make_dir(folder_path_dict[path])"
   ]
  },
  {
   "cell_type": "markdown",
   "id": "27bfb94a",
   "metadata": {},
   "source": [
    "# Retriving the gb file\n",
    "\n",
    "In this tutorial we will fetch genebank file of *Staphylococcus aureus subsp. aureus str. Newman* (accession id: AP009351.1)"
   ]
  },
  {
   "cell_type": "code",
   "execution_count": 2,
   "id": "a08bdc16",
   "metadata": {},
   "outputs": [],
   "source": [
    "accession_id = 'AP009351.1'"
   ]
  },
  {
   "cell_type": "markdown",
   "id": "c63f53c6",
   "metadata": {},
   "source": [
    "## Writing the nucleotide file containing CDS"
   ]
  },
  {
   "cell_type": "code",
   "execution_count": 3,
   "id": "20ed9b39",
   "metadata": {
    "scrolled": true
   },
   "outputs": [
    {
     "name": "stdout",
     "output_type": "stream",
     "text": [
      "Retrieval started\n"
     ]
    },
    {
     "name": "stderr",
     "output_type": "stream",
     "text": [
      "/home/souro/Projects/CodonU/.venv/lib64/python3.11/site-packages/Bio/Entrez/__init__.py:694: UserWarning: \n",
      "            Email address is not specified.\n",
      "\n",
      "            To make use of NCBI's E-utilities, NCBI requires you to specify your\n",
      "            email address with each request.  As an example, if your email address\n",
      "            is A.N.Other@example.com, you can specify it as follows:\n",
      "               from Bio import Entrez\n",
      "               Entrez.email = 'A.N.Other@example.com'\n",
      "            In case of excessive usage of the E-utilities, NCBI will attempt to contact\n",
      "            a user at the email address provided before blocking access to the\n",
      "            E-utilities.\n",
      "  warnings.warn(\n"
     ]
    },
    {
     "name": "stdout",
     "output_type": "stream",
     "text": [
      "Genbank file of Staphylococcus aureus subsp. aureus str. Newman retrieved successfully\n",
      "Nucleotide file can be found at: /home/souro/Projects/CodonU/Examples/Nucleotide/Staphylococcus_aureus.fasta\n"
     ]
    }
   ],
   "source": [
    "file_path = 'Nucleotide/Staphylococcus_aureus.fasta'\n",
    "write_nucleotide_fasta(accession_id=accession_id, file_path=file_path)"
   ]
  },
  {
   "cell_type": "markdown",
   "id": "c5cd6b04",
   "metadata": {},
   "source": [
    "## Writing the protein file"
   ]
  },
  {
   "cell_type": "code",
   "execution_count": 5,
   "id": "aed200c9",
   "metadata": {},
   "outputs": [
    {
     "name": "stdout",
     "output_type": "stream",
     "text": [
      "Retrieval started\n"
     ]
    },
    {
     "name": "stderr",
     "output_type": "stream",
     "text": [
      "/home/souro/Projects/CodonU/.venv/lib64/python3.11/site-packages/Bio/Entrez/__init__.py:694: UserWarning: \n",
      "            Email address is not specified.\n",
      "\n",
      "            To make use of NCBI's E-utilities, NCBI requires you to specify your\n",
      "            email address with each request.  As an example, if your email address\n",
      "            is A.N.Other@example.com, you can specify it as follows:\n",
      "               from Bio import Entrez\n",
      "               Entrez.email = 'A.N.Other@example.com'\n",
      "            In case of excessive usage of the E-utilities, NCBI will attempt to contact\n",
      "            a user at the email address provided before blocking access to the\n",
      "            E-utilities.\n",
      "  warnings.warn(\n"
     ]
    },
    {
     "name": "stdout",
     "output_type": "stream",
     "text": [
      "Genbank file of Staphylococcus aureus subsp. aureus str. Newman retrieved successfully\n",
      "Protein file can be found at: /home/souro/Projects/CodonU/Examples/Protein/Staphylococcus_aureus.fasta\n"
     ]
    }
   ],
   "source": [
    "file_path = 'Protein/Staphylococcus_aureus.fasta'\n",
    "write_protein_fasta(accession_id=accession_id, file_path=file_path)"
   ]
  },
  {
   "cell_type": "markdown",
   "id": "17d92fd5",
   "metadata": {},
   "source": [
    "## Writing the exome file\n",
    "The function which writes the exome file, takes an additional input for parameter named `exclude_stops`, which controls the behaviour of including or excluding internal stop codons. In easy words, the exome file contains all the CDS, but as a single sequence. Now, if the stop codons from each CDS is included, then the sequence is meaningless in context of analysis. So, if you pass `True`, all the internal stop codons will not be appended during creation of the exone. If `False`, then the sequence will contain internal stop codons, which may create problems later."
   ]
  },
  {
   "cell_type": "code",
   "execution_count": 7,
   "id": "378bce21",
   "metadata": {},
   "outputs": [
    {
     "name": "stdout",
     "output_type": "stream",
     "text": [
      "Retrieval started\n"
     ]
    },
    {
     "name": "stderr",
     "output_type": "stream",
     "text": [
      "/home/souro/Projects/CodonU/.venv/lib64/python3.11/site-packages/Bio/Entrez/__init__.py:694: UserWarning: \n",
      "            Email address is not specified.\n",
      "\n",
      "            To make use of NCBI's E-utilities, NCBI requires you to specify your\n",
      "            email address with each request.  As an example, if your email address\n",
      "            is A.N.Other@example.com, you can specify it as follows:\n",
      "               from Bio import Entrez\n",
      "               Entrez.email = 'A.N.Other@example.com'\n",
      "            In case of excessive usage of the E-utilities, NCBI will attempt to contact\n",
      "            a user at the email address provided before blocking access to the\n",
      "            E-utilities.\n",
      "  warnings.warn(\n"
     ]
    },
    {
     "name": "stdout",
     "output_type": "stream",
     "text": [
      "Genbank file of Staphylococcus aureus subsp. aureus str. Newman retrieved successfully\n",
      "Exome file can be found at: /home/souro/Projects/CodonU/Examples/Exome/Staphylococcus_aureus.fasta\n"
     ]
    }
   ],
   "source": [
    "file_path = 'Exome/Staphylococcus_aureus.fasta'\n",
    "write_exome_fasta(file_path=file_path, accession_id=accession_id, exclude_stops=True)"
   ]
  },
  {
   "cell_type": "markdown",
   "id": "b80cc29a",
   "metadata": {},
   "source": [
    "If you want to go with a multiple organism, you can try:\n",
    "\n",
    "```\n",
    "from os.path, import join\n",
    "\n",
    "accession_ids = []    # accession ids of the organisms in the list\n",
    "orgasim_names = []    # respective organism names\n",
    "\n",
    "nuc_folder_path = ''\n",
    "# exome_folder_path = ''\n",
    "# prot_folder_path = ''\n",
    "\n",
    "for idx in range(len(accession_ids)):\n",
    "    file_path = join(organism_names[idx], nuc_folder_path)    # may give other folder path if necessary\n",
    "    write_nucleotide_fasta(accession_ids[idx], file_path)    # may give other function\n",
    "\n",
    "```"
   ]
  }
 ],
 "metadata": {
  "kernelspec": {
   "display_name": "Python 3 (ipykernel)",
   "language": "python",
   "name": "python3"
  },
  "language_info": {
   "codemirror_mode": {
    "name": "ipython",
    "version": 3
   },
   "file_extension": ".py",
   "mimetype": "text/x-python",
   "name": "python",
   "nbconvert_exporter": "python",
   "pygments_lexer": "ipython3",
   "version": "3.11.3"
  }
 },
 "nbformat": 4,
 "nbformat_minor": 5
}
