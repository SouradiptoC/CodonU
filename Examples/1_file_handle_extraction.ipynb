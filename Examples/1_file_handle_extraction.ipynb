{
 "cells": [
  {
   "cell_type": "markdown",
   "id": "84e3f509",
   "metadata": {},
   "source": [
    "# Introduction\n",
    "\n",
    "Welcome to the tutorial of `CodonU`. In this part we will see about file hadnling by CodonU. In this tutorial, we will fetch some genebank file from [NCBI](https://www.ncbi.nlm.nih.gov/)"
   ]
  },
  {
   "cell_type": "code",
   "execution_count": null,
   "id": "9999f433",
   "metadata": {},
   "outputs": [],
   "source": [
    "# If you already haven't installed it, install it\n",
    "# pip install CodonU"
   ]
  },
  {
   "cell_type": "code",
   "execution_count": 1,
   "id": "6f83e489",
   "metadata": {},
   "outputs": [],
   "source": [
    "from CodonU import file_handler as fh    # for file handling\n",
    "from CodonU import extractor as ex    # for extracting the data\n",
    "import pandas as pd    # we will need it for reading the data\n",
    "from os.path import join    # we will need it for writing the files"
   ]
  },
  {
   "cell_type": "markdown",
   "id": "b5e774aa",
   "metadata": {},
   "source": [
    "# Setting entrenz parameter\n",
    "\n",
    "One word of caution, in order to use the package for data fetching, you may consider to link your google account with NCBI. After that, you can get your API key. For details, click [here](https://support.nlm.nih.gov/knowledgebase/article/KA-05317/en-us).\n",
    "\n",
    "If you don't set the parameters, it will affect the retrival speed, and will show you a warning (as you will look below, as i will not use my API here)."
   ]
  },
  {
   "cell_type": "code",
   "execution_count": null,
   "id": "600798df",
   "metadata": {},
   "outputs": [],
   "source": [
    "# Below we are setting the email and api value which are of string in nature\n",
    "# email, api = '', ''\n",
    "# fh.set_entrez_param(email=email, api_key=api)"
   ]
  },
  {
   "cell_type": "markdown",
   "id": "b4f5d8c9",
   "metadata": {},
   "source": [
    "# Making directories\n",
    "\n",
    "I will confine myself to a certain file and folder structure. You can make certain directories to organize your results."
   ]
  },
  {
   "cell_type": "code",
   "execution_count": 2,
   "id": "4c31743b",
   "metadata": {
    "scrolled": true
   },
   "outputs": [
    {
     "name": "stdout",
     "output_type": "stream",
     "text": [
      "Nucleotide created successfully\n",
      "Exome created successfully\n",
      "Protein created successfully\n"
     ]
    }
   ],
   "source": [
    "folder_path_dict = {\n",
    "    'nucleo': 'Nucleotide',\n",
    "    'exome': 'Exome',\n",
    "    'prot': 'Protein'\n",
    "}\n",
    "\n",
    "for path in folder_path_dict.keys():\n",
    "    fh.make_dir(folder_path_dict[path])"
   ]
  },
  {
   "cell_type": "markdown",
   "id": "8e6973fe",
   "metadata": {},
   "source": [
    "# Reading the csv file\n",
    "\n",
    "CodonU gives the user the liberty to fetch genebank files from NCBI directly. In order to do that users just need a .csv file containing the organism name and accession id"
   ]
  },
  {
   "cell_type": "code",
   "execution_count": 3,
   "id": "93be7826",
   "metadata": {},
   "outputs": [
    {
     "data": {
      "text/html": [
       "<div>\n",
       "<style scoped>\n",
       "    .dataframe tbody tr th:only-of-type {\n",
       "        vertical-align: middle;\n",
       "    }\n",
       "\n",
       "    .dataframe tbody tr th {\n",
       "        vertical-align: top;\n",
       "    }\n",
       "\n",
       "    .dataframe thead th {\n",
       "        text-align: right;\n",
       "    }\n",
       "</style>\n",
       "<table border=\"1\" class=\"dataframe\">\n",
       "  <thead>\n",
       "    <tr style=\"text-align: right;\">\n",
       "      <th></th>\n",
       "      <th>Name</th>\n",
       "      <th>Accession_id</th>\n",
       "    </tr>\n",
       "  </thead>\n",
       "  <tbody>\n",
       "    <tr>\n",
       "      <th>0</th>\n",
       "      <td>Staphylococcus agnetis</td>\n",
       "      <td>CP045927.1</td>\n",
       "    </tr>\n",
       "    <tr>\n",
       "      <th>1</th>\n",
       "      <td>Staphylococcus argenteus</td>\n",
       "      <td>FR821777.2</td>\n",
       "    </tr>\n",
       "    <tr>\n",
       "      <th>2</th>\n",
       "      <td>Staphylococcus aureus</td>\n",
       "      <td>CP000253.1</td>\n",
       "    </tr>\n",
       "  </tbody>\n",
       "</table>\n",
       "</div>"
      ],
      "text/plain": [
       "                       Name Accession_id\n",
       "0    Staphylococcus agnetis   CP045927.1\n",
       "1  Staphylococcus argenteus   FR821777.2\n",
       "2     Staphylococcus aureus   CP000253.1"
      ]
     },
     "execution_count": 3,
     "metadata": {},
     "output_type": "execute_result"
    }
   ],
   "source": [
    "df = pd.read_csv('Staphylococcus_species.csv')\n",
    "df"
   ]
  },
  {
   "cell_type": "markdown",
   "id": "27bfb94a",
   "metadata": {},
   "source": [
    "# Retriving the gb file"
   ]
  },
  {
   "cell_type": "code",
   "execution_count": 4,
   "id": "40d83e7e",
   "metadata": {
    "scrolled": false
   },
   "outputs": [
    {
     "name": "stdout",
     "output_type": "stream",
     "text": [
      "Retrieval started\n"
     ]
    },
    {
     "name": "stderr",
     "output_type": "stream",
     "text": [
      "/home/souro/Projects/CodonU/.venv/lib64/python3.11/site-packages/Bio/Entrez/__init__.py:694: UserWarning: \n",
      "            Email address is not specified.\n",
      "\n",
      "            To make use of NCBI's E-utilities, NCBI requires you to specify your\n",
      "            email address with each request.  As an example, if your email address\n",
      "            is A.N.Other@example.com, you can specify it as follows:\n",
      "               from Bio import Entrez\n",
      "               Entrez.email = 'A.N.Other@example.com'\n",
      "            In case of excessive usage of the E-utilities, NCBI will attempt to contact\n",
      "            a user at the email address provided before blocking access to the\n",
      "            E-utilities.\n",
      "  warnings.warn(\n"
     ]
    },
    {
     "name": "stdout",
     "output_type": "stream",
     "text": [
      "Genbank file of Staphylococcus agnetis retrieved successfully\n",
      "Nucleotide file for Staphylococcus agnetis created successfully\n",
      "Exome file for Staphylococcus agnetis created successfully\n",
      "Protein file for Staphylococcus agnetis created successfully\n",
      "Retrieval started\n",
      "Genbank file of Staphylococcus argenteus retrieved successfully\n",
      "Nucleotide file for Staphylococcus argenteus created successfully\n",
      "Exome file for Staphylococcus argenteus created successfully\n",
      "Protein file for Staphylococcus argenteus created successfully\n",
      "Retrieval started\n",
      "Genbank file of Staphylococcus aureus subsp. aureus NCTC 8325 retrieved successfully\n",
      "Nucleotide file for Staphylococcus aureus created successfully\n",
      "Exome file for Staphylococcus aureus created successfully\n",
      "Protein file for Staphylococcus aureus created successfully\n"
     ]
    }
   ],
   "source": [
    "for idx in df.index:\n",
    "    # getting the accession id\n",
    "    accession_id = df['Accession_id'][idx]\n",
    "    # retreiving the data\n",
    "    record = fh.get_gb(accession_id)\n",
    "    cds_lst = ex.extract_cds_lst(record)\n",
    "    # taking the organism name\n",
    "    organism_name = \"_\".join(df['Name'][idx].split())\n",
    "    # defining the file paths\n",
    "    nuc_file_path = join(folder_path_dict['nucleo'], f\"{organism_name}_nucleotide.fasta\")\n",
    "    exome_file_path = join(folder_path_dict['exome'], f\"{organism_name}_exome.fasta\")\n",
    "    prot_file_path = join(folder_path_dict['prot'], f\"{organism_name}_protein.fasta\")\n",
    "    # writing the files\n",
    "    fh.write_nucleotide_fasta(nuc_file_path, cds_lst, record, df['Name'][idx])\n",
    "    fh.write_exome_fasta(exome_file_path, nuc_file_path, df['Name'][idx])\n",
    "    fh.write_protein_fasta(prot_file_path, cds_lst, df['Name'][idx])"
   ]
  },
  {
   "cell_type": "markdown",
   "id": "b80cc29a",
   "metadata": {},
   "source": [
    "If you want to go with a single organism, the optimal path may be \n",
    "\n",
    "```\n",
    "accession_id = ''\n",
    "organism_name = ''\n",
    "\n",
    "nuc_file_path = ''\n",
    "exome_file_path = ''\n",
    "prot_file_path = ''\n",
    "\n",
    "record = fh.get_gb(accession_id)\n",
    "cds_lst = ex.extract_cds_lst(record)\n",
    "\n",
    "fh.write_nucleotide_fasta(nuc_file_path, cds_lst, record, organism_name)\n",
    "fh.write_exome_fasta(exome_file_path, nuc_file_path, organism_name)\n",
    "fh.write_protein_fasta(prot_file_path, cds_lst, organism_name)\n",
    "\n",
    "```"
   ]
  }
 ],
 "metadata": {
  "kernelspec": {
   "display_name": "Python 3 (ipykernel)",
   "language": "python",
   "name": "python3"
  },
  "language_info": {
   "codemirror_mode": {
    "name": "ipython",
    "version": 3
   },
   "file_extension": ".py",
   "mimetype": "text/x-python",
   "name": "python",
   "nbconvert_exporter": "python",
   "pygments_lexer": "ipython3",
   "version": "3.11.2"
  }
 },
 "nbformat": 4,
 "nbformat_minor": 5
}
