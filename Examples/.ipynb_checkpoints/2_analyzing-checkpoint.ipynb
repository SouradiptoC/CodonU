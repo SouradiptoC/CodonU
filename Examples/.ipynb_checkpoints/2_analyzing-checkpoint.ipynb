{
 "cells": [
  {
   "cell_type": "markdown",
   "id": "e0da4c43",
   "metadata": {},
   "source": [
    "# Introduction\n",
    "\n",
    "In this tutorial we will see how to analyse the data we just retrieved!"
   ]
  },
  {
   "cell_type": "code",
   "execution_count": 1,
   "id": "c28b6e99",
   "metadata": {},
   "outputs": [],
   "source": [
    "from CodonU import analyzer as an"
   ]
  },
  {
   "cell_type": "markdown",
   "id": "c97aa47f",
   "metadata": {},
   "source": [
    "# Setting file  path\n",
    "\n",
    "The whole genome fasta files contain more than 2000 genes, hence will create a significant amount of data is analyzed. Here i am going to restrain the analysis of first two genes of _Staphylococcus agnetis_."
   ]
  },
  {
   "cell_type": "code",
   "execution_count": 2,
   "id": "8b004747",
   "metadata": {},
   "outputs": [],
   "source": [
    "in_file = 'Nucleotide/test.fasta'\n",
    "# in_file = ''    your choice of file"
   ]
  },
  {
   "cell_type": "markdown",
   "id": "97e798ad",
   "metadata": {},
   "source": [
    "# Setting up necessary parameters\n",
    "\n",
    "Here we are going to set 3 parameters, viz.:\n",
    "- `genetic_code_num`: Genetic table number for codon table. To know more about genetic table number, click [here](https://www.ncbi.nlm.nih.gov/Taxonomy/Utils/wprintgc.cgi)\n",
    "- `gene_analysis`: If you want to perform gene analysis or genome analysis. Set `True` if you want to take account of indiviual gene, else set `False` if you want perform the gene as whole, rather as genome\n",
    "- `min_len_threshold`: Minimum length of nucleotide sequence to be considered as a gene"
   ]
  },
  {
   "cell_type": "code",
   "execution_count": 3,
   "id": "97d86a22",
   "metadata": {},
   "outputs": [],
   "source": [
    "genetic_code_num = 11\n",
    "gene_analysis = True\n",
    "min_len_threshold = 200"
   ]
  },
  {
   "cell_type": "markdown",
   "id": "7623852d",
   "metadata": {},
   "source": [
    "# CAI\n",
    "\n",
    "## Gene Analysis\n",
    "\n",
    "One word of caution, you may find something called `nan`, please look into first part of [Generate Summary](#generate_summary)"
   ]
  },
  {
   "cell_type": "code",
   "execution_count": 5,
   "id": "dcab57cb",
   "metadata": {},
   "outputs": [],
   "source": [
    "cai = an.calculate_cai(in_file, genetic_code_num, min_len_threshold, gene_analysis)"
   ]
  },
  {
   "cell_type": "markdown",
   "id": "2113db98",
   "metadata": {},
   "source": [
    "Below written code is just for showing purpose and nothing else."
   ]
  },
  {
   "cell_type": "code",
   "execution_count": 6,
   "id": "e6f2b7f6",
   "metadata": {},
   "outputs": [
    {
     "name": "stdout",
     "output_type": "stream",
     "text": [
      "gene_1:\n",
      "    TTT: 1.0\n",
      "    TTC: 0.5\n",
      "    TTA: 1.0\n",
      "    TTG: 0.5\n",
      "    TCT: 0.6956521739130435\n",
      "    TCC: 0.43478260869565216\n",
      "    TCA: 1.0\n",
      "    TCG: 0.043478260869565216\n",
      "    TAT: 1.0\n",
      "    TAC: 1.0\n",
      "    TGT: 1.0\n",
      "    TGC: 1.0\n",
      "    TGG: nan\n",
      "    CTT: 0.5\n",
      "    CTC: 0.5\n",
      "    CTA: 0.5\n",
      "    CTG: 1.0\n",
      "    CCT: 1.0\n",
      "    CCC: 0.25\n",
      "    CCA: 0.5\n",
      "    CCG: 0.5\n",
      "    CAT: 1.0\n",
      "    CAC: 0.5\n",
      "    CAA: 1.0\n",
      "    CAG: 0.0625\n",
      "    CGT: 1.0\n",
      "    CGC: 0.25\n",
      "    CGA: 0.12500000000000003\n",
      "    CGG: 0.12500000000000003\n",
      "    ATT: 0.5\n",
      "    ATC: 1.0\n",
      "    ATA: 0.5\n",
      "    ATG: nan\n",
      "    ACT: 1.0\n",
      "    ACC: 0.2\n",
      "    ACA: 0.9333333333333333\n",
      "    ACG: 0.3333333333333333\n",
      "    AAT: 1.0\n",
      "    AAC: 0.2857142857142857\n",
      "    AAA: 1.0\n",
      "    AAG: 0.1346153846153846\n",
      "    AGT: 0.13043478260869565\n",
      "    AGC: 0.021739130434782608\n",
      "    AGA: 0.75\n",
      "    AGG: 0.12500000000000003\n",
      "    GTT: 1.0\n",
      "    GTC: 0.12500000000000003\n",
      "    GTA: 0.7500000000000001\n",
      "    GTG: 0.25\n",
      "    GCT: 1.0\n",
      "    GCC: 0.14285714285714285\n",
      "    GCA: 0.42857142857142855\n",
      "    GCG: 0.3571428571428572\n",
      "    GAT: 1.0\n",
      "    GAC: 0.9285714285714286\n",
      "    GAA: 1.0\n",
      "    GAG: 0.38461538461538464\n",
      "    GGT: 1.0\n",
      "    GGC: 1.0\n",
      "    GGA: 0.5\n",
      "    GGG: 0.5\n",
      "gene_2:\n",
      "    TTT: 1.0\n",
      "    TTC: 0.39999999999999997\n",
      "    TTA: 1.0\n",
      "    TTG: 0.4444444444444444\n",
      "    TCT: 1.0\n",
      "    TCC: 0.25\n",
      "    TCA: 0.9166666666666667\n",
      "    TCG: 0.04166666666666668\n",
      "    TAT: 1.0\n",
      "    TAC: 0.5\n",
      "    TGT: 1.0\n",
      "    TGC: 1.0\n",
      "    TGG: nan\n",
      "    CTT: 0.2222222222222222\n",
      "    CTC: 0.11111111111111109\n",
      "    CTA: 0.05555555555555554\n",
      "    CTG: 0.05555555555555554\n",
      "    CCT: 0.5\n",
      "    CCC: 0.25\n",
      "    CCA: 0.25\n",
      "    CCG: 1.0\n",
      "    CAT: 1.0\n",
      "    CAC: 0.3333333333333333\n",
      "    CAA: 1.0\n",
      "    CAG: 0.12500000000000003\n",
      "    CGT: 1.0\n",
      "    CGC: 1.0\n",
      "    CGA: 0.25\n",
      "    CGG: 1.0\n",
      "    ATT: 1.0\n",
      "    ATC: 0.08333333333333333\n",
      "    ATA: 0.5\n",
      "    ATG: nan\n",
      "    ACT: 0.2\n",
      "    ACC: 0.05000000000000001\n",
      "    ACA: 0.6\n",
      "    ACG: 1.0\n",
      "    AAT: 1.0\n",
      "    AAC: 0.6363636363636364\n",
      "    AAA: 1.0\n",
      "    AAG: 0.4912280701754386\n",
      "    AGT: 0.33333333333333337\n",
      "    AGC: 0.04166666666666668\n",
      "    AGA: 1.0\n",
      "    AGG: 0.5\n",
      "    GTT: 0.5\n",
      "    GTC: 0.25\n",
      "    GTA: 1.0\n",
      "    GTG: 0.5\n",
      "    GCT: 0.8\n",
      "    GCC: 0.10000000000000002\n",
      "    GCA: 0.4\n",
      "    GCG: 1.0\n",
      "    GAT: 1.0\n",
      "    GAC: 0.3125\n",
      "    GAA: 0.875\n",
      "    GAG: 1.0\n",
      "    GGT: 1.0\n",
      "    GGC: 0.6\n",
      "    GGA: 1.0\n",
      "    GGG: 0.6\n"
     ]
    }
   ],
   "source": [
    "# below code is just for performing the vizualization\n",
    "for gene in cai.keys():\n",
    "    print(f'{gene}:')\n",
    "    for codon, cai_val in cai[gene].items():\n",
    "        print(f'    {codon}: {cai_val}')"
   ]
  },
  {
   "cell_type": "markdown",
   "id": "4eeaf6a1",
   "metadata": {},
   "source": [
    "## Genome analysis"
   ]
  },
  {
   "cell_type": "code",
   "execution_count": 7,
   "id": "f6b4c26d",
   "metadata": {
    "scrolled": true
   },
   "outputs": [
    {
     "name": "stdout",
     "output_type": "stream",
     "text": [
      "TTT: 1.0\n",
      "TTC: 0.3333333333333333\n",
      "TTA: 1.0\n",
      "TTG: 0.4\n",
      "TCT: 0.8235294117647057\n",
      "TCC: 0.38235294117647056\n",
      "TCA: 1.0\n",
      "TCG: 0.02941176470588235\n",
      "TAT: 1.0\n",
      "TAC: 0.5\n",
      "TGT: 1.0\n",
      "TGC: 1.0\n",
      "TGG: nan\n",
      "CTT: 0.2\n",
      "CTC: 0.10000000000000002\n",
      "CTA: 0.05000000000000001\n",
      "CTG: 0.10000000000000002\n",
      "CCT: 1.0\n",
      "CCC: 0.16666666666666669\n",
      "CCA: 0.3333333333333333\n",
      "CCG: 1.0\n",
      "CAT: 1.0\n",
      "CAC: 0.25\n",
      "CAA: 1.0\n",
      "CAG: 0.0625\n",
      "CGT: 1.0\n",
      "CGC: 0.5\n",
      "CGA: 0.08333333333333333\n",
      "CGG: 0.3333333333333333\n",
      "ATT: 1.0\n",
      "ATC: 0.2857142857142857\n",
      "ATA: 0.5714285714285714\n",
      "ATG: nan\n",
      "ACT: 0.85\n",
      "ACC: 0.15\n",
      "ACA: 1.0\n",
      "ACG: 0.7499999999999999\n",
      "AAT: 1.0\n",
      "AAC: 0.5\n",
      "AAA: 1.0\n",
      "AAG: 0.3211009174311927\n",
      "AGT: 0.20588235294117643\n",
      "AGC: 0.014705882352941173\n",
      "AGA: 0.8333333333333333\n",
      "AGG: 0.16666666666666669\n",
      "GTT: 1.0\n",
      "GTC: 0.09999999999999998\n",
      "GTA: 1.0\n",
      "GTG: 0.39999999999999997\n",
      "GCT: 1.0\n",
      "GCC: 0.11111111111111109\n",
      "GCA: 0.4444444444444444\n",
      "GCG: 0.5555555555555556\n",
      "GAT: 1.0\n",
      "GAC: 0.7045454545454546\n",
      "GAA: 1.0\n",
      "GAG: 0.4387755102040816\n",
      "GGT: 1.0\n",
      "GGC: 0.6666666666666666\n",
      "GGA: 0.8333333333333334\n",
      "GGG: 0.5\n"
     ]
    }
   ],
   "source": [
    "cai = an.calculate_cai(in_file, genetic_code_num, min_len_threshold, gene_analysis=False)\n",
    "\n",
    "# below code is just for performing the vizualization\n",
    "for codon, cai_val in cai.items():\n",
    "    print(f'{codon}: {cai_val}')"
   ]
  },
  {
   "cell_type": "markdown",
   "id": "61267caf",
   "metadata": {},
   "source": [
    "## Saving the file\n",
    "\n",
    "Though you can work with CodonU in an easy pace, you may want to validate the data. Hence analyzer functions provide an easy way to save the data as .xlsx file.\n",
    "\n",
    "__In order to save the file in excel format you must have the package [openpyxl](https://pypi.org/project/openpyxl/)__"
   ]
  },
  {
   "cell_type": "code",
   "execution_count": 8,
   "id": "b5a3a774",
   "metadata": {},
   "outputs": [
    {
     "name": "stdout",
     "output_type": "stream",
     "text": [
      "Report created successfully\n",
      "The CAI score file can be found at: /home/souro/Projects/CodonU/Examples/Report/CAI_report.xlsx\n"
     ]
    }
   ],
   "source": [
    "# file_name = ''\n",
    "# folder_path = ''\n",
    "cai = an.calculate_cai(in_file, genetic_code_num, save_file=True)"
   ]
  },
  {
   "cell_type": "markdown",
   "id": "c90a04b1",
   "metadata": {},
   "source": [
    "# CBI\n",
    "\n",
    "## Gene Analysis"
   ]
  },
  {
   "cell_type": "code",
   "execution_count": 11,
   "id": "93b48f03",
   "metadata": {},
   "outputs": [],
   "source": [
    "cbi = an.calculate_cbi(in_file, genetic_code_num, min_len_threshold=66, gene_analysis=True)"
   ]
  },
  {
   "cell_type": "markdown",
   "id": "a6dfff43",
   "metadata": {},
   "source": [
    "__Note__: here `min_len_threshold = 66` because 66 amino acids is translated from 198 nucleotide base-pairs. For nucleotide ([CAI](#CAI)) `min_len_threshold = 200`, hence in this case it's 66. Also where ever the sequence is based on nucleotide, default value for `min_len_threshold` is 200; else if based on amino acid, the value is 66.\n",
    "\n",
    "Below written code is just for vizualisation purpose."
   ]
  },
  {
   "cell_type": "code",
   "execution_count": 17,
   "id": "47e0df45",
   "metadata": {
    "scrolled": true
   },
   "outputs": [
    {
     "name": "stdout",
     "output_type": "stream",
     "text": [
      "gene_1:\n",
      "    A: 0.35802469135802467\tGCT\n",
      "    C: nan\tNone\n",
      "    D: 0.037037037037037035\tGAT\n",
      "    E: 0.4444444444444444\tGAA\n",
      "    F: 1.0\tTTT\n",
      "    G: 0.3333333333333333\tGGT\n",
      "    H: 1.0\tCAT\n",
      "    I: 0.25\tATC\n",
      "    K: 0.7627118644067796\tAAA\n",
      "    L: 0.4\tTTA\n",
      "    M: nan\tATG\n",
      "    N: 0.5555555555555556\tAAT\n",
      "    P: 0.3333333333333333\tCCT\n",
      "    Q: 1.0\tCAA\n",
      "    R: 0.4\tCGT\n",
      "    S: 0.32075471698113206\tTCA\n",
      "    T: 0.2072072072072072\tACT\n",
      "    V: 0.3333333333333333\tGTT\n",
      "    W: nan\tTGG\n",
      "    Y: nan\tNone\n",
      "gene_2:\n",
      "    A: 0.2727272727272727\tGCG\n",
      "    C: nan\tNone\n",
      "    D: 0.5238095238095238\tGAT\n",
      "    E: 0.06666666666666667\tGAG\n",
      "    F: 0.42857142857142855\tTTT\n",
      "    G: 0.08333333333333333\tGGT\n",
      "    H: 0.5\tCAT\n",
      "    I: 0.5\tATT\n",
      "    K: 0.3411764705882353\tAAA\n",
      "    L: 0.47500000000000003\tTTA\n",
      "    M: nan\tATG\n",
      "    N: 0.2222222222222222\tAAT\n",
      "    P: 0.5555555555555556\tCCG\n",
      "    Q: 0.7777777777777778\tCAA\n",
      "    R: 0.06666666666666667\tCGT\n",
      "    S: 0.28\tTCT\n",
      "    T: 0.4074074074074074\tACG\n",
      "    V: 0.3333333333333333\tGTA\n",
      "    W: nan\tTGG\n",
      "    Y: 1.0\tTAT\n"
     ]
    }
   ],
   "source": [
    "for gene, cbi_vals in cbi.items():\n",
    "    print(f'{gene}:')\n",
    "    for aa, cbi_val in cbi_vals.items():\n",
    "        print(f'    {aa}: {cbi_val[0]}\\t{cbi_val[1]}')"
   ]
  },
  {
   "cell_type": "markdown",
   "id": "6fb905ce",
   "metadata": {},
   "source": [
    "## Genome Analysis"
   ]
  },
  {
   "cell_type": "code",
   "execution_count": null,
   "id": "1987e1dc",
   "metadata": {},
   "outputs": [],
   "source": [
    "cbi = an.calculate_cbi(in_file, genetic_code_num)"
   ]
  },
  {
   "cell_type": "markdown",
   "id": "bd641143",
   "metadata": {},
   "source": [
    "# Generate Summary\n",
    "\n",
    "## generate_summary"
   ]
  }
 ],
 "metadata": {
  "kernelspec": {
   "display_name": "Python 3 (ipykernel)",
   "language": "python",
   "name": "python3"
  },
  "language_info": {
   "codemirror_mode": {
    "name": "ipython",
    "version": 3
   },
   "file_extension": ".py",
   "mimetype": "text/x-python",
   "name": "python",
   "nbconvert_exporter": "python",
   "pygments_lexer": "ipython3",
   "version": "3.11.2"
  }
 },
 "nbformat": 4,
 "nbformat_minor": 5
}
