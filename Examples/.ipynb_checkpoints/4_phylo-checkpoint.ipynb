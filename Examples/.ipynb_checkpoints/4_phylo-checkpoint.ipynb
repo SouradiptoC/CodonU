{
 "cells": [
  {
   "cell_type": "markdown",
   "id": "2dc59074",
   "metadata": {},
   "source": [
    "# Introduction\n",
    "\n",
    "In this part we will look into how to perform phylo genetic analysis with CodonU.\n",
    "\n",
    "__Note:__ Inorder to perform the operations, you need the binary files of clustal. You can find them at:\n",
    "\n",
    "- ClustalW: [http://www.clustal.org/download/current/](http://www.clustal.org/download/current/)\n",
    "- ClustalO: [http://www.clustal.org/omega/#Download](http://www.clustal.org/omega/#Download)\n",
    "\n",
    "After successful download of the binary files, provide them the permission to execute."
   ]
  },
  {
   "cell_type": "code",
   "execution_count": 1,
   "id": "41c2a59e",
   "metadata": {},
   "outputs": [],
   "source": [
    "from CodonU import phylogenetic_analysis as phy"
   ]
  },
  {
   "cell_type": "markdown",
   "id": "cb816929",
   "metadata": {},
   "source": [
    "# Creating the files\n",
    "\n",
    "Inorder to feed the program your sequences of desire, either you can manualy copy them refer to the below written code."
   ]
  },
  {
   "cell_type": "code",
   "execution_count": 2,
   "id": "84ed4e1d",
   "metadata": {},
   "outputs": [
    {
     "name": "stdout",
     "output_type": "stream",
     "text": [
      "Provided file not empty! Your action will result into completely changing the content of the file. Proceed [y/n]?: y\n"
     ]
    }
   ],
   "source": [
    "file_lst = [\n",
    "    'Exome/Staphylococcus_agnetis_exome.fasta',\n",
    "    'Exome/Staphylococcus_argenteus_exome.fasta',\n",
    "    'Exome/Staphylococcus_aureus_exome.fasta'\n",
    "]\n",
    "\n",
    "phy.generate_phylo_input(file_lst, folder_path='Exome')"
   ]
  },
  {
   "cell_type": "markdown",
   "id": "f3c9eb34",
   "metadata": {},
   "source": [
    "# Input File\n",
    "\n",
    "Now that we have created the input file for phylogenetic analysis, we must take it. Here we are going take a dummy file for example only. This is because, analyzing phylogeny of exome takes huge time."
   ]
  },
  {
   "cell_type": "code",
   "execution_count": 3,
   "id": "d31b6a49",
   "metadata": {},
   "outputs": [],
   "source": [
    "in_file = 'Exome/phylo_input_test.fasta'"
   ]
  },
  {
   "cell_type": "markdown",
   "id": "6dab84bd",
   "metadata": {},
   "source": [
    "# ClustalO"
   ]
  },
  {
   "cell_type": "code",
   "execution_count": 4,
   "id": "a3a106d0",
   "metadata": {},
   "outputs": [],
   "source": [
    "bin_file = '/home/souro/Projects/CodonU/Examples/ClustalO'\n",
    "phy.phy_clustal_o(bin_file, in_file)"
   ]
  },
  {
   "cell_type": "markdown",
   "id": "b248abc2",
   "metadata": {},
   "source": [
    "# ClustalW"
   ]
  },
  {
   "cell_type": "code",
   "execution_count": 5,
   "id": "a21609d8",
   "metadata": {},
   "outputs": [],
   "source": [
    "bin_file = '/home/souro/Projects/CodonU/Examples/ClustalW'\n",
    "phy.phy_clustal_w(bin_file, in_file)"
   ]
  },
  {
   "cell_type": "markdown",
   "id": "ce1b4f0d",
   "metadata": {},
   "source": [
    "A dendogram file will be generated while operating with ClustalW. It will help in vizualizing."
   ]
  }
 ],
 "metadata": {
  "kernelspec": {
   "display_name": "Python 3 (ipykernel)",
   "language": "python",
   "name": "python3"
  },
  "language_info": {
   "codemirror_mode": {
    "name": "ipython",
    "version": 3
   },
   "file_extension": ".py",
   "mimetype": "text/x-python",
   "name": "python",
   "nbconvert_exporter": "python",
   "pygments_lexer": "ipython3",
   "version": "3.11.2"
  }
 },
 "nbformat": 4,
 "nbformat_minor": 5
}
