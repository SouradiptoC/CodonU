{
 "cells": [
  {
   "cell_type": "code",
   "execution_count": 7,
   "id": "6b8d2153",
   "metadata": {},
   "outputs": [],
   "source": [
    "from FileHandler import read_file, set_entrez_param, make_dir, get_gb, write_nucleotide_fasta\n",
    "from CdsExtractor import extract_cds_lst\n",
    "from os import path"
   ]
  },
  {
   "cell_type": "code",
   "execution_count": 8,
   "id": "4e455143",
   "metadata": {},
   "outputs": [
    {
     "name": "stdout",
     "output_type": "stream",
     "text": [
      "Setting provided email to entrez.email\n",
      "Setting provided API key to entrez.api_key\n"
     ]
    }
   ],
   "source": [
    "email = 'sourochaudhuri@gmail.com'  # Use your own email\n",
    "api_key = 'f8aaf28ce944b3a659da3553951cef0e6608'  # Use your own API key\n",
    "set_entrez_param(email, api_key)"
   ]
  },
  {
   "cell_type": "code",
   "execution_count": 9,
   "id": "3f70cc2c",
   "metadata": {},
   "outputs": [],
   "source": [
    "df = read_file('../Staphylococcus_species.csv')"
   ]
  },
  {
   "cell_type": "code",
   "execution_count": 10,
   "id": "6a57bd69",
   "metadata": {},
   "outputs": [
    {
     "name": "stdout",
     "output_type": "stream",
     "text": [
      "Results created successfully\n",
      "Nucleotide created successfully\n"
     ]
    }
   ],
   "source": [
    "make_dir('../Results')\n",
    "make_dir('../Results/Nucleotide')\n",
    "nucleotide_result_path = '../Results/Nucleotide'"
   ]
  },
  {
   "cell_type": "code",
   "execution_count": null,
   "id": "828794d5",
   "metadata": {},
   "outputs": [
    {
     "name": "stdout",
     "output_type": "stream",
     "text": [
      "Retrieval started\n",
      "Genbank file of Staphylococcus agnetis retrieved successfully\n",
      "Staphylococcus_agnetis_nucleotide.fasta created successfully\n",
      "Retrieval started\n",
      "Genbank file of Staphylococcus argenteus retrieved successfully\n",
      "Staphylococcus_argenteus_nucleotide.fasta created successfully\n",
      "Retrieval started\n",
      "Genbank file of Staphylococcus aureus subsp. aureus NCTC 8325 retrieved successfully\n",
      "Staphylococcus_aureus_nucleotide.fasta created successfully\n",
      "Retrieval started\n",
      "Genbank file of Staphylococcus auricularis retrieved successfully\n",
      "Staphylococcus_auricularis_nucleotide.fasta created successfully\n",
      "Retrieval started\n",
      "Genbank file of Staphylococcus caprae retrieved successfully\n",
      "Staphylococcus_caprae_nucleotide.fasta created successfully\n",
      "Retrieval started\n",
      "Genbank file of Staphylococcus condimenti retrieved successfully\n",
      "Staphylococcus_condimenti_nucleotide.fasta created successfully\n",
      "Retrieval started\n",
      "Genbank file of Staphylococcus debuckii retrieved successfully\n",
      "Staphylococcus_debuckii_nucleotide.fasta created successfully\n",
      "Retrieval started\n",
      "Genbank file of Staphylococcus epidermidis retrieved successfully\n",
      "Staphylococcus_epidermidis_nucleotide.fasta created successfully\n",
      "Retrieval started\n",
      "Genbank file of Staphylococcus equorum retrieved successfully\n",
      "Staphylococcus_equorum_nucleotide.fasta created successfully\n",
      "Retrieval started\n",
      "Genbank file of Staphylococcus felis retrieved successfully\n",
      "Staphylococcus_felis_nucleotide.fasta created successfully\n",
      "Retrieval started\n",
      "Genbank file of Staphylococcus haemolyticus retrieved successfully\n",
      "Staphylococcus_haemolyticus_nucleotide.fasta created successfully\n",
      "Retrieval started\n",
      "Genbank file of Staphylococcus hominis retrieved successfully\n",
      "Staphylococcus_hominis_nucleotide.fasta created successfully\n",
      "Retrieval started\n",
      "Genbank file of Staphylococcus hyicus retrieved successfully\n",
      "Staphylococcus_hyicus_nucleotide.fasta created successfully\n",
      "Retrieval started\n",
      "Genbank file of Staphylococcus kloosii retrieved successfully\n",
      "Staphylococcus_kloosii_nucleotide.fasta created successfully\n",
      "Retrieval started\n",
      "Genbank file of Staphylococcus lloydii retrieved successfully\n",
      "Staphylococcus_lloydii_nucleotide.fasta created successfully\n",
      "Retrieval started\n",
      "Genbank file of Staphylococcus lugdunensis retrieved successfully\n",
      "Staphylococcus_lugdunensis_nucleotide.fasta created successfully\n",
      "Retrieval started\n",
      "Genbank file of Staphylococcus lutrae retrieved successfully\n",
      "Staphylococcus_lutrae_nucleotide.fasta created successfully\n",
      "Retrieval started\n",
      "Genbank file of Staphylococcus muscae retrieved successfully\n",
      "Staphylococcus_muscae_nucleotide.fasta created successfully\n",
      "Retrieval started\n",
      "Genbank file of Staphylococcus nepalensis retrieved successfully\n",
      "Staphylococcus_nepalensis_nucleotide.fasta created successfully\n",
      "Retrieval started\n",
      "Genbank file of Staphylococcus pasteuri retrieved successfully\n",
      "Staphylococcus_pasteuri_nucleotide.fasta created successfully\n",
      "Retrieval started\n",
      "Genbank file of Staphylococcus pettenkoferi retrieved successfully\n",
      "Staphylococcus_pettenkoferi_nucleotide.fasta created successfully\n",
      "Retrieval started\n",
      "Genbank file of Staphylococcus piscifermentans retrieved successfully\n",
      "Staphylococcus_piscifermentans_nucleotide.fasta created successfully\n",
      "Retrieval started\n",
      "Genbank file of Staphylococcus pseudintermedius retrieved successfully\n",
      "Staphylococcus_pseudintermedius_nucleotide.fasta created successfully\n",
      "Retrieval started\n",
      "Genbank file of Staphylococcus saccharolyticus retrieved successfully\n",
      "Staphylococcus_saccharolyticus_nucleotide.fasta created successfully\n",
      "Retrieval started\n",
      "Genbank file of Staphylococcus saprophyticus retrieved successfully\n",
      "Staphylococcus_saprophyticus_nucleotide.fasta created successfully\n",
      "Retrieval started\n",
      "Genbank file of Staphylococcus schweitzeri retrieved successfully\n",
      "Staphylococcus_schweitzeri_nucleotide.fasta created successfully\n",
      "Retrieval started\n",
      "Genbank file of Staphylococcus simiae retrieved successfully\n",
      "Staphylococcus_simiae_nucleotide.fasta created successfully\n",
      "Retrieval started\n",
      "Genbank file of Staphylococcus succinus retrieved successfully\n",
      "Staphylococcus_succinus_nucleotide.fasta created successfully\n",
      "Retrieval started\n",
      "Genbank file of Staphylococcus warneri retrieved successfully\n",
      "Staphylococcus_warneri_nucleotide.fasta created successfully\n",
      "Retrieval started\n"
     ]
    }
   ],
   "source": [
    "for idx in df.index:\n",
    "    accession_id = df['Accession_id'][idx]\n",
    "    record = get_gb(accession_id)\n",
    "    cds_lst = extract_cds_lst(record)\n",
    "    organism_name = \"_\".join(df['Name'][idx].split())\n",
    "    file_path = path.join(nucleotide_result_path, f\"{organism_name}_nucleotide.fasta\")\n",
    "    write_nucleotide_fasta(file_path, cds_lst, record)"
   ]
  }
 ],
 "metadata": {
  "kernelspec": {
   "display_name": "Python 3 (ipykernel)",
   "language": "python",
   "name": "python3"
  },
  "language_info": {
   "codemirror_mode": {
    "name": "ipython",
    "version": 3
   },
   "file_extension": ".py",
   "mimetype": "text/x-python",
   "name": "python",
   "nbconvert_exporter": "python",
   "pygments_lexer": "ipython3",
   "version": "3.10.6"
  }
 },
 "nbformat": 4,
 "nbformat_minor": 5
}
